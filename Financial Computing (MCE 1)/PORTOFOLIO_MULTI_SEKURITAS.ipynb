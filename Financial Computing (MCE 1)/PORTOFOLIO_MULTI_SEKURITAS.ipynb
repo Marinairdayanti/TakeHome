{
  "nbformat": 4,
  "nbformat_minor": 0,
  "metadata": {
    "colab": {
      "name": "PORTOFOLIO MULTI SEKURITAS.ipynb",
      "provenance": []
    },
    "kernelspec": {
      "name": "python3",
      "display_name": "Python 3"
    }
  },
  "cells": [
    {
      "cell_type": "code",
      "metadata": {
        "id": "ONdLcaicqBxH",
        "colab_type": "code",
        "colab": {
          "base_uri": "https://localhost:8080/",
          "height": 35
        },
        "outputId": "04163969-49c7-44ed-b809-4494f73de356"
      },
      "source": [
        "import numpy as np\n",
        "u = np.array([1,1,1])\n",
        "w = np.array([0.9,0.5,0.5]) #matriks bobot portofolio\n",
        "wT = np.transpose(w)      #matriks transpose\n",
        "\n",
        "#perkalian matriks u dngan w transpose\n",
        "print(np.dot(u,wT))"
      ],
      "execution_count": null,
      "outputs": [
        {
          "output_type": "stream",
          "text": [
            "1.9\n"
          ],
          "name": "stdout"
        }
      ]
    },
    {
      "cell_type": "code",
      "metadata": {
        "id": "APQI6mMK2BKr",
        "colab_type": "code",
        "colab": {
          "base_uri": "https://localhost:8080/",
          "height": 35
        },
        "outputId": "42c44206-e2d6-4e66-a795-8788b41b13fc"
      },
      "source": [
        "#matriks ekpetasi return\n",
        "m = np.array([0.1, 0.05, 0.08])\n",
        "# ekpetasi return portofolio\n",
        "print(np.dot(m,wT))"
      ],
      "execution_count": null,
      "outputs": [
        {
          "output_type": "stream",
          "text": [
            "0.15500000000000003\n"
          ],
          "name": "stdout"
        }
      ]
    },
    {
      "cell_type": "code",
      "metadata": {
        "id": "gtdQ7_Vh3Kfh",
        "colab_type": "code",
        "colab": {
          "base_uri": "https://localhost:8080/",
          "height": 54
        },
        "outputId": "a5c516d3-9ee1-4907-c1f9-5cddd5e1d77f"
      },
      "source": [
        "#menentukan matriks kovariansi\n",
        "variansi_saham1 = 0.04\n",
        "variansi_saham2 = 0.09\n",
        "korelasi12 = 0.1\n",
        "#komponen matriks covariansi\n",
        "import math\n",
        "c11 = variansi_saham1\n",
        "c22 = variansi_saham2\n",
        "c12 = korelasi12*math.sqrt(variansi_saham1)*math.sqrt(variansi_saham2)\n",
        "c21 = c12\n",
        "C = np.array([[c11,c12],[c21,c22]])\n",
        "print(C)"
      ],
      "execution_count": null,
      "outputs": [
        {
          "output_type": "stream",
          "text": [
            "[[0.04  0.006]\n",
            " [0.006 0.09 ]]\n"
          ],
          "name": "stdout"
        }
      ]
    },
    {
      "cell_type": "code",
      "metadata": {
        "id": "rrYhwMOn7pv7",
        "colab_type": "code",
        "colab": {
          "base_uri": "https://localhost:8080/",
          "height": 35
        },
        "outputId": "1033af30-9a8c-4c23-a4d2-5b2794488359"
      },
      "source": [
        "#matriks bobot\n",
        "w = np.array([0.6,0.4])\n",
        "wT = np.transpose(w)\n",
        "#matriks ekpetasi return\n",
        "m = np.array([0.02, 0.04])\n",
        "print(w.dot(C).dot(wT))"
      ],
      "execution_count": null,
      "outputs": [
        {
          "output_type": "stream",
          "text": [
            "0.03168\n"
          ],
          "name": "stdout"
        }
      ]
    },
    {
      "cell_type": "code",
      "metadata": {
        "id": "lJg9LLYW-sOj",
        "colab_type": "code",
        "colab": {
          "base_uri": "https://localhost:8080/",
          "height": 35
        },
        "outputId": "82e05602-c847-415e-c0ba-1b35966cb696"
      },
      "source": [
        "# ekpetasi return portofolio\n",
        "print(np.dot(m,wT))"
      ],
      "execution_count": null,
      "outputs": [
        {
          "output_type": "stream",
          "text": [
            "0.028\n"
          ],
          "name": "stdout"
        }
      ]
    },
    {
      "cell_type": "code",
      "metadata": {
        "id": "nGqfdRqt-t3p",
        "colab_type": "code",
        "colab": {
          "base_uri": "https://localhost:8080/",
          "height": 35
        },
        "outputId": "67c14405-7a60-4c6e-a132-15c2e5f6b5af"
      },
      "source": [
        "#portofolio minim resiko\n",
        "from numpy.linalg import inv\n",
        "u = np.array([1,1])\n",
        "uT = np.transpose(u)\n",
        "Cinverse = inv(C)\n",
        "wopt = np.dot(u,Cinverse)*u.dot(Cinverse).dot(uT)\n",
        "print(wopt)"
      ],
      "execution_count": null,
      "outputs": [
        {
          "output_type": "stream",
          "text": [
            "[780.34365352 315.85338357]\n"
          ],
          "name": "stdout"
        }
      ]
    },
    {
      "cell_type": "code",
      "metadata": {
        "id": "HuP-ux_QEjYB",
        "colab_type": "code",
        "colab": {
          "base_uri": "https://localhost:8080/",
          "height": 35
        },
        "outputId": "46d2f20a-6f46-4b15-fdfc-9109b4ad02e2"
      },
      "source": [
        "woptT = np.transpose(wopt)\n",
        "print(wopt.dot(C).dot(woptT))"
      ],
      "execution_count": null,
      "outputs": [
        {
          "output_type": "stream",
          "text": [
            "36293.84129526259\n"
          ],
          "name": "stdout"
        }
      ]
    }
  ]
}