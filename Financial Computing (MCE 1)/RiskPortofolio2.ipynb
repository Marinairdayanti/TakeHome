{
  "nbformat": 4,
  "nbformat_minor": 0,
  "metadata": {
    "colab": {
      "name": "RiskPortofolio2",
      "provenance": []
    },
    "kernelspec": {
      "name": "python3",
      "display_name": "Python 3"
    }
  },
  "cells": [
    {
      "cell_type": "code",
      "metadata": {
        "id": "hxoeif8-y59S",
        "colab_type": "code",
        "colab": {
          "base_uri": "https://localhost:8080/",
          "height": 36
        },
        "outputId": "19510b81-4f99-4ad7-fec8-b14b87fe36b3"
      },
      "source": [
        "import numpy as np\n",
        "m = np.array([0.08,0.1,0.06])\n",
        "print(m)"
      ],
      "execution_count": null,
      "outputs": [
        {
          "output_type": "stream",
          "text": [
            "[0.08 0.1  0.06]\n"
          ],
          "name": "stdout"
        }
      ]
    },
    {
      "cell_type": "code",
      "metadata": {
        "id": "70vHxPhlzPCd",
        "colab_type": "code",
        "colab": {}
      },
      "source": [
        "sigma1 = 1.5\n",
        "sigma2 = 0.5\n",
        "sigma3 = 1.2\n",
        "rho12 = 0.3\n",
        "rho23 = 0\n",
        "rho13 =-0.2"
      ],
      "execution_count": null,
      "outputs": []
    },
    {
      "cell_type": "code",
      "metadata": {
        "id": "DXoRzZv8zrQi",
        "colab_type": "code",
        "colab": {}
      },
      "source": [
        "c11=sigma1**2\n",
        "c22=sigma2**2\n",
        "c33=sigma3**2\n",
        "c12=rho12*sigma1*sigma2\n",
        "c23=rho23*sigma2*sigma3\n",
        "c13=rho13*sigma1*sigma3"
      ],
      "execution_count": null,
      "outputs": []
    },
    {
      "cell_type": "code",
      "metadata": {
        "id": "jYdObWs80YZ7",
        "colab_type": "code",
        "colab": {
          "base_uri": "https://localhost:8080/",
          "height": 73
        },
        "outputId": "72254e1c-7696-403d-c107-9349a31b027b"
      },
      "source": [
        "#mendevinisikan matriks covariansi\n",
        "C = np.array([[c11,c12,c13],[c12,c22,c23],[c13,c23,c33]])\n",
        "print(C)"
      ],
      "execution_count": null,
      "outputs": [
        {
          "output_type": "stream",
          "text": [
            "[[ 2.25   0.225 -0.36 ]\n",
            " [ 0.225  0.25   0.   ]\n",
            " [-0.36   0.     1.44 ]]\n"
          ],
          "name": "stdout"
        }
      ]
    },
    {
      "cell_type": "code",
      "metadata": {
        "id": "CaXP3Gr50z9r",
        "colab_type": "code",
        "colab": {}
      },
      "source": [
        "u = np.array([1,1,1])\n",
        "uT = np.transpose(u)"
      ],
      "execution_count": null,
      "outputs": []
    },
    {
      "cell_type": "code",
      "metadata": {
        "id": "i90wZ-bY3Kbz",
        "colab_type": "code",
        "colab": {
          "base_uri": "https://localhost:8080/",
          "height": 73
        },
        "outputId": "b0a6fa43-71b8-40dd-e9db-c95a755d9182"
      },
      "source": [
        "from numpy.linalg import inv\n",
        "Cinvers = inv(C)\n",
        "print(Cinvers)"
      ],
      "execution_count": null,
      "outputs": [
        {
          "output_type": "stream",
          "text": [
            "[[ 0.51085568 -0.45977011  0.12771392]\n",
            " [-0.45977011  4.4137931  -0.11494253]\n",
            " [ 0.12771392 -0.11494253  0.72637292]]\n"
          ],
          "name": "stdout"
        }
      ]
    },
    {
      "cell_type": "code",
      "metadata": {
        "id": "d1aFlBQ43Zcf",
        "colab_type": "code",
        "colab": {
          "base_uri": "https://localhost:8080/",
          "height": 36
        },
        "outputId": "1e73a28b-9034-4b5f-ded3-a321c70f0ab8"
      },
      "source": [
        "#menghitung bobot portofolio dengan resiko terkecil\n",
        "wopt = np.dot(u,Cinvers)/(u.dot(Cinvers).dot(uT))\n",
        "print(wopt)"
      ],
      "execution_count": null,
      "outputs": [
        {
          "output_type": "stream",
          "text": [
            "[0.03758642 0.80703403 0.15537956]\n"
          ],
          "name": "stdout"
        }
      ]
    },
    {
      "cell_type": "code",
      "metadata": {
        "id": "bZayB67B5zoR",
        "colab_type": "code",
        "colab": {
          "base_uri": "https://localhost:8080/",
          "height": 36
        },
        "outputId": "0bc26ef6-3795-4b95-d334-333ff0b4f641"
      },
      "source": [
        "#menghitung nilai resiko\n",
        "woptT = np.transpose(wopt)\n",
        "resiko = wopt.dot(C).dot(woptT)\n",
        "print(resiko)"
      ],
      "execution_count": null,
      "outputs": [
        {
          "output_type": "stream",
          "text": [
            "0.2102154507013893\n"
          ],
          "name": "stdout"
        }
      ]
    },
    {
      "cell_type": "code",
      "metadata": {
        "id": "qxvLb0Le6RHP",
        "colab_type": "code",
        "colab": {
          "base_uri": "https://localhost:8080/",
          "height": 36
        },
        "outputId": "a1d34f0e-425b-4114-8062-ba6e527331b5"
      },
      "source": [
        "Ek = np.dot(m,woptT)\n",
        "print(Ek)"
      ],
      "execution_count": null,
      "outputs": [
        {
          "output_type": "stream",
          "text": [
            "0.09303308946909188\n"
          ],
          "name": "stdout"
        }
      ]
    },
    {
      "cell_type": "markdown",
      "metadata": {
        "id": "TPdid8sTH9dl",
        "colab_type": "text"
      },
      "source": [
        "# portofolio garis variansi minimum"
      ]
    },
    {
      "cell_type": "code",
      "metadata": {
        "id": "4s6x0wsZ6ox8",
        "colab_type": "code",
        "colab": {
          "base_uri": "https://localhost:8080/",
          "height": 54
        },
        "outputId": "4b442402-8ec5-4200-8a06-8c13a41ec02a"
      },
      "source": [
        "#nilai ek diterapkan menjadi syarat, misalnya\n",
        "muv = 0.1\n",
        "#portofolio membagi ek = muv dengan resiko terkecil\n",
        "A1= np.array([[1,u.dot(Cinvers).dot(np.transpose(m))],[muv,m.dot(Cinvers).dot(np.transpose(m))]])\n",
        "print(A1)"
      ],
      "execution_count": null,
      "outputs": [
        {
          "output_type": "stream",
          "text": [
            "[[1.         0.44256066]\n",
            " [0.1        0.04251277]]\n"
          ],
          "name": "stdout"
        }
      ]
    },
    {
      "cell_type": "code",
      "metadata": {
        "id": "whu5YvYBFZoP",
        "colab_type": "code",
        "colab": {
          "base_uri": "https://localhost:8080/",
          "height": 54
        },
        "outputId": "77815c8d-03ca-44f9-ebb7-72d2fe277dfc"
      },
      "source": [
        "A2 = np.array([[u.dot(Cinvers).dot(uT),1],[m.dot(Cinvers).dot(uT), muv]])\n",
        "print(A2)"
      ],
      "execution_count": null,
      "outputs": [
        {
          "output_type": "stream",
          "text": [
            "[[4.75702427 1.        ]\n",
            " [0.44256066 0.1       ]]\n"
          ],
          "name": "stdout"
        }
      ]
    },
    {
      "cell_type": "code",
      "metadata": {
        "id": "VnRhbdfxF5Je",
        "colab_type": "code",
        "colab": {
          "base_uri": "https://localhost:8080/",
          "height": 54
        },
        "outputId": "be9fccaa-9124-4a00-b2d1-59ea6882249c"
      },
      "source": [
        "A3 = np.array([[u.dot(Cinvers).dot(uT),u.dot(Cinvers).dot(np.transpose(m))],[m.dot(Cinvers).dot(uT), m.dot(Cinvers).dot(np.transpose(m))]])\n",
        "print(A3)"
      ],
      "execution_count": null,
      "outputs": [
        {
          "output_type": "stream",
          "text": [
            "[[4.75702427 0.44256066]\n",
            " [0.44256066 0.04251277]]\n"
          ],
          "name": "stdout"
        }
      ]
    },
    {
      "cell_type": "code",
      "metadata": {
        "id": "07d-T2DUGaDa",
        "colab_type": "code",
        "colab": {
          "base_uri": "https://localhost:8080/",
          "height": 36
        },
        "outputId": "d63f5954-ede2-4f7f-ffe9-a908df18efbd"
      },
      "source": [
        "from numpy.linalg import det\n",
        "wopt = (det(A1)*np.dot(u,Cinvers)+ det(A2)*np.dot(m,Cinvers))/(det(A3))\n",
        "print(wopt)"
      ],
      "execution_count": null,
      "outputs": [
        {
          "output_type": "stream",
          "text": [
            "[-0.03561888  1.01780944  0.01780944]\n"
          ],
          "name": "stdout"
        }
      ]
    },
    {
      "cell_type": "code",
      "metadata": {
        "id": "ikcdf3vvHSR1",
        "colab_type": "code",
        "colab": {
          "base_uri": "https://localhost:8080/",
          "height": 36
        },
        "outputId": "b83bca71-a34b-491b-c9a6-a421b90f5224"
      },
      "source": [
        "#Nilai Resiko\n",
        "resiko2 = wopt.dot(C).dot(np.transpose(wopt))\n",
        "print(resiko2)"
      ],
      "execution_count": null,
      "outputs": [
        {
          "output_type": "stream",
          "text": [
            "0.24643811219946413\n"
          ],
          "name": "stdout"
        }
      ]
    },
    {
      "cell_type": "code",
      "metadata": {
        "id": "ke0haLDRHqH4",
        "colab_type": "code",
        "colab": {}
      },
      "source": [
        ""
      ],
      "execution_count": null,
      "outputs": []
    }
  ]
}