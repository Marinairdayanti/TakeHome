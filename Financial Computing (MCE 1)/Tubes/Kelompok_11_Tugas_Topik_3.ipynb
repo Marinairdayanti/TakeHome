{
  "nbformat": 4,
  "nbformat_minor": 0,
  "metadata": {
    "kernelspec": {
      "display_name": "Python 3",
      "language": "python",
      "name": "python3"
    },
    "language_info": {
      "codemirror_mode": {
        "name": "ipython",
        "version": 3
      },
      "file_extension": ".py",
      "mimetype": "text/x-python",
      "name": "python",
      "nbconvert_exporter": "python",
      "pygments_lexer": "ipython3",
      "version": "3.8.0"
    },
    "colab": {
      "name": "Kelompok 11 Tugas Topik 3.ipynb",
      "provenance": [],
      "collapsed_sections": []
    }
  },
  "cells": [
    {
      "cell_type": "markdown",
      "metadata": {
        "id": "kT_PMB68LMck",
        "colab_type": "text"
      },
      "source": [
        "**TUGAS 3 Binomial Tree**\n",
        "\n",
        "\n",
        "**Kelompok 11** (**MCE-GAB-40**)\n",
        "\n",
        "\n",
        "**Aurell Layalia S. A. G.\t1301170231**\n",
        "\n",
        "**Marina Irdayanti\t      1301174319**\n",
        "\n",
        "**Priscilia Lovita P.\t    1301174102**\n"
      ]
    },
    {
      "cell_type": "code",
      "metadata": {
        "id": "K-dsww9jAqZ5",
        "colab_type": "code",
        "colab": {}
      },
      "source": [
        "#Memasukkan Library\n",
        "import matplotlib.pyplot as plt\n",
        "import csv\n",
        "from random import *"
      ],
      "execution_count": null,
      "outputs": []
    },
    {
      "cell_type": "code",
      "metadata": {
        "id": "3MgfbqjpSD1b",
        "colab_type": "code",
        "colab": {}
      },
      "source": [
        "#Membaca File CSV\n",
        "with open('DJIA.csv',newline='') as csvfile:\n",
        "    df = list(csv.reader(csvfile))"
      ],
      "execution_count": null,
      "outputs": []
    },
    {
      "cell_type": "code",
      "metadata": {
        "colab_type": "code",
        "id": "0mujAWSqJ9T8",
        "colab": {}
      },
      "source": [
        "#Membuat Grafik\n",
        "for n in range(10):\n",
        "    #Inisiasi\n",
        "    high = 0\n",
        "    low = 0\n",
        "    upper = 0   #Return Naik\n",
        "    lower = 0   #Return Turun\n",
        "\n",
        "    for n in range(1,len(df)):\n",
        "    #Memprediksi Dari Kolom Close dalam Data Sebenarnya yang didefinisikan sbg actual \n",
        "        actual = float(df[n][4])  \n",
        "        if n<len(df)-1:\n",
        "            G = (float(df[n+1][4])-actual)/actual\n",
        "        if G>0:\n",
        "            high += 1\n",
        "            upper += G*1\n",
        "            lower += G*0\n",
        "        else:\n",
        "            low += 1\n",
        "            upper += G*0\n",
        "            lower += G*1\n",
        "    #Membuat Array\n",
        "    actualNum = []\n",
        "    predictionNum = []\n",
        "    dates = []\n",
        "\n",
        "    for n in range(1,len(df)):\n",
        "        dates.append(df[n][0])\n",
        "        actual = float(df[n][4])\n",
        "        actualNum.append(actual)\n",
        "        #Mensimulasi Prediksi Dari Data \n",
        "        if n==1:\n",
        "            prediction = actual\n",
        "        else:\n",
        "            if acak<p:\n",
        "                prediction = prediction*(1+u)\n",
        "            else:\n",
        "                prediction = prediction*(1+d)\n",
        "        predictionNum.append(prediction)\n",
        "        if n<len(df)-1:\n",
        "            G = (float(df[n+1][4])-actual)/actual\n",
        "        #Estimasi\n",
        "        u = upper/high\n",
        "        d = lower/low\n",
        "        p = high/(high+low)\n",
        "        down = 1-p\n",
        "        acak = random()\n",
        "\n",
        "    #Menampilkan Grafik\n",
        "    plt.plot(dates,predictionNum,color='pink')\n",
        "    plt.plot(dates,actualNum,color='red')\n",
        "    plt.show()"
      ],
      "execution_count": null,
      "outputs": []
    },
    {
      "cell_type": "code",
      "metadata": {
        "id": "wtceygdqAqai",
        "colab_type": "code",
        "colab": {}
      },
      "source": [
        ""
      ],
      "execution_count": null,
      "outputs": []
    }
  ]
}