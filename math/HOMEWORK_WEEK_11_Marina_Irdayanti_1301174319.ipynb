{
  "nbformat": 4,
  "nbformat_minor": 0,
  "metadata": {
    "colab": {
      "name": "HOMEWORK - WEEK 11 - Marina Irdayanti - 1301174319.ipynb",
      "provenance": []
    },
    "kernelspec": {
      "name": "python3",
      "display_name": "Python 3"
    }
  },
  "cells": [
    {
      "cell_type": "markdown",
      "metadata": {
        "id": "9o5XA1SV_dwY",
        "colab_type": "text"
      },
      "source": [
        "**HOMEWORK WEEK 10**\n",
        "\n",
        "**NAMA : MARINA IRDAYANTI**\n",
        "\n",
        "**NIM : 1301174319**"
      ]
    },
    {
      "cell_type": "markdown",
      "metadata": {
        "id": "w6hSrKItmb9I",
        "colab_type": "text"
      },
      "source": [
        "# Exercise\n",
        "\n",
        " Please solve the transport problem\n",
        "\\begin{equation*}\n",
        "    \\rho_t + b \\rho_x = 0 \n",
        "\\end{equation*}\n",
        "and the initial density of vehicle on domain $[-1,2]$,\n",
        "\\begin{equation*}\n",
        "    \\rho(x,0)=\\nu(x)=\\begin{cases}\n",
        "    0, & \\text{ if } -1 \\leq x < 0\\\\\n",
        "    1, & \\text{ if } 0 \\leq x < 1\\\\\n",
        "    0, & \\text{ otherwise}\n",
        "    \\end{cases}\n",
        "\\end{equation*}\n",
        "\n",
        "*   Use Upwind method for $b=1$, $N=10$ and $\\Delta t=0.01$. Plot solutions at times $t=0$, $t=0.1$ and $t=1$.\n",
        "*   Repeat (a), with $b=-1$!\n",
        "\n"
      ]
    },
    {
      "cell_type": "markdown",
      "metadata": {
        "id": "-9Z9zKtw7reZ",
        "colab_type": "text"
      },
      "source": [
        "# b=1"
      ]
    },
    {
      "cell_type": "code",
      "metadata": {
        "id": "tQ2VR8QPKFeV",
        "colab_type": "code",
        "outputId": "bd096575-0a75-4c96-bcf7-e4eebfd2d5c7",
        "colab": {
          "base_uri": "https://localhost:8080/",
          "height": 364
        }
      },
      "source": [
        "import numpy as np\n",
        "import matplotlib.pyplot as plt\n",
        "\n",
        "def f(xi):\n",
        "  if  (xi >=1 and xi <= 3):\n",
        "    return 1\n",
        "  else :\n",
        "    return 0\n",
        "\n",
        "L1 = -1\n",
        "L2 = 2\n",
        "N = 10\n",
        "x = np.linspace(L1,L2,N) #for plot purpose\n",
        "dx = (L2 -L1)/(N-1)\n",
        "print(\"dx = \",dx)\n",
        "\n",
        "T = 0\n",
        "Tfin = 3\n",
        "dt = 0.01 #Tfin/(T-1)\n",
        "print(\"dt = \",dt)\n",
        "\n",
        "b=1\n",
        "r=0.6 \n",
        "print('Courant number = ',r)\n",
        "\n",
        "#Initial condition\n",
        "rho = []\n",
        "for k in range(0,N):\n",
        "  rho.append(f(x[k]))\n",
        "\n",
        "init = rho   # for plot purpose\n",
        "\n",
        "time=0\n",
        "while (time<=Tfin):\n",
        "  time = time+dt\n",
        "  rho_n = []\n",
        "  rho_n.append(0)    #Diriclet boundary left\n",
        "  \n",
        "  for i in range (1,N-1) :\n",
        "    rho_n.append(rho[i] - max(0,r)*(rho[i]-rho[i-1]) - min(0,r)*(rho[i+1]-rho[i]))\n",
        "  \n",
        "  rho_n.append(0)  #Diriclet boundary right\n",
        "  rho = rho_n\n",
        "#Endwhile\n",
        "\n",
        "\n",
        "plt.grid()\n",
        "plt.xlabel(\"x\",fontsize=20)\n",
        "plt.ylabel(r\"$\\rho(x,t)$\",fontsize=20)\n",
        "plt.ylim(-0.3,1.3)\n",
        "\n",
        "\n",
        "\n",
        "plt.plot(x,init,'--', color='red', linewidth=3)\n",
        "plt.plot(x,rho, color='red', linewidth=3)\n",
        "plt.title(\"At time = {}\".format(Tfin),fontsize=20)\n",
        "plt.legend(['Initial', 'Upwind'],fontsize=15)\n",
        "plt.show()"
      ],
      "execution_count": 0,
      "outputs": [
        {
          "output_type": "stream",
          "text": [
            "dx =  0.3333333333333333\n",
            "dt =  0.01\n",
            "Courant number =  0.6\n"
          ],
          "name": "stdout"
        },
        {
          "output_type": "display_data",
          "data": {
            "image/png": "[encoded data removed]",
            "text/plain": [
              "<Figure size 432x288 with 1 Axes>"
            ]
          },
          "metadata": {
            "tags": []
          }
        }
      ]
    },
    {
      "cell_type": "markdown",
      "metadata": {
        "id": "Z7bqwJaI8HuK",
        "colab_type": "text"
      },
      "source": [
        "# b=-1"
      ]
    },
    {
      "cell_type": "code",
      "metadata": {
        "id": "xXYhm6BjLvw3",
        "colab_type": "code",
        "outputId": "e8dabe14-4ad4-4648-923d-9b2ce8cd2efa",
        "colab": {
          "base_uri": "https://localhost:8080/",
          "height": 364
        }
      },
      "source": [
        "import numpy as np\n",
        "import matplotlib.pyplot as plt\n",
        "\n",
        "def f(xi):\n",
        "  if  (xi >=1 and xi <= 3):\n",
        "    return 1\n",
        "  else :\n",
        "    return 0\n",
        "\n",
        "L1 = -1\n",
        "L2 = 2\n",
        "N = 10\n",
        "x = np.linspace(L1,L2,N) #for plot purpose\n",
        "dx = (L2 -L1)/(N-1)\n",
        "print(\"dx = \",dx)\n",
        "\n",
        "T = 0.1\n",
        "Tfin = 3\n",
        "dt = 0.01 #Tfin/(T-1)\n",
        "print(\"dt = \",dt)\n",
        "\n",
        "b=-1\n",
        "r=0.6 \n",
        "print('Courant number = ',r)\n",
        "\n",
        "#Initial condition\n",
        "rho = []\n",
        "for k in range(0,N):\n",
        "  rho.append(f(x[k]))\n",
        "\n",
        "init = rho   # for plot purpose\n",
        "\n",
        "time=0\n",
        "while (time<=Tfin):\n",
        "  time = time+dt\n",
        "  rho_n = []\n",
        "  rho_n.append(0)    #Diriclet boundary left\n",
        "  \n",
        "  for i in range (1,N-1) :\n",
        "    rho_n.append(rho[i] - max(0,r)*(rho[i]-rho[i-1]) - min(0,r)*(rho[i+1]-rho[i]))\n",
        "  \n",
        "  rho_n.append(0)  #Diriclet boundary right\n",
        "  rho = rho_n\n",
        "#Endwhile\n",
        "\n",
        "\n",
        "plt.grid()\n",
        "plt.xlabel(\"x\",fontsize=20)\n",
        "plt.ylabel(r\"$\\rho(x,t)$\",fontsize=20)\n",
        "plt.ylim(-0.3,1.3)\n",
        "\n",
        "\n",
        "\n",
        "plt.plot(x,init,'--', color='red', linewidth=3)\n",
        "plt.plot(x,rho, color='red', linewidth=3)\n",
        "plt.title(\"At time = {}\".format(Tfin),fontsize=20)\n",
        "plt.legend(['Initial', 'Upwind'],fontsize=15)\n",
        "plt.show()"
      ],
      "execution_count": 0,
      "outputs": [
        {
          "output_type": "stream",
          "text": [
            "dx =  0.3333333333333333\n",
            "dt =  0.01\n",
            "Courant number =  0.6\n"
          ],
          "name": "stdout"
        },
        {
          "output_type": "display_data",
          "data": {
            "image/png": "[encoded data removed]",
            "text/plain": [
              "<Figure size 432x288 with 1 Axes>"
            ]
          },
          "metadata": {
            "tags": []
          }
        }
      ]
    }
  ]
}