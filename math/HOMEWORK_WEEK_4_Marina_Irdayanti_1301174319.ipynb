{
  "nbformat": 4,
  "nbformat_minor": 0,
  "metadata": {
    "colab": {
      "name": "HOMEWORK_WEEK_4_Marina_Irdayanti_1301174319.ipynb",
      "provenance": [],
      "collapsed_sections": []
    },
    "kernelspec": {
      "name": "python3",
      "display_name": "Python 3"
    }
  },
  "cells": [
    {
      "cell_type": "markdown",
      "metadata": {
        "id": "PRDffYlH1g4I",
        "colab_type": "text"
      },
      "source": [
        "# <center> Numerical Method for Informatics</center>\n",
        "## <center> Numerical Integration</center>\n",
        "\n",
        "This course is devoted to student of Undergraduate Student of Informatics, Telkom University. This course will talk about Composite Trapezoidal and Simpson's rule as the algorithm for finding the approximation of $\\int_a^b f(x) dx$.\n",
        "\n",
        "Detail of Course\n",
        "\n",
        "\n",
        "*   Course Name: (CSH4403) Numerical Method for Informatics\n",
        "\n",
        "*   Creator: Dr. Putu Harry Gunawan"
      ]
    },
    {
      "cell_type": "markdown",
      "metadata": {
        "id": "dPae3kGCBclo",
        "colab_type": "text"
      },
      "source": [
        "# TRAPEZOIDAL RULE"
      ]
    },
    {
      "cell_type": "markdown",
      "metadata": {
        "id": "bag2wuzgNP9m",
        "colab_type": "text"
      },
      "source": [
        "<img src = \"https://i.imgur.com/lp5ix5e.png\" align = \"center\">"
      ]
    },
    {
      "cell_type": "markdown",
      "metadata": {
        "id": "wrHqzDzaNZm5",
        "colab_type": "text"
      },
      "source": [
        "**EXAMPLE**\n",
        "\n",
        "Solve $\\int_0^2 \\sqrt{x+1} dx$ using trapezoidal rule"
      ]
    },
    {
      "cell_type": "markdown",
      "metadata": {
        "id": "pacpGm5pUJCI",
        "colab_type": "text"
      },
      "source": [
        "Define the function $f(x)$ as a problem"
      ]
    },
    {
      "cell_type": "code",
      "metadata": {
        "id": "2Pkp8Q3aOI9K",
        "colab_type": "code",
        "colab": {}
      },
      "source": [
        "import numpy as np\n",
        "def f(x):\n",
        "  return np.sqrt(x+1)"
      ],
      "execution_count": null,
      "outputs": []
    },
    {
      "cell_type": "markdown",
      "metadata": {
        "id": "uWfBd7YzUJ-M",
        "colab_type": "text"
      },
      "source": [
        "Solve the problem"
      ]
    },
    {
      "cell_type": "code",
      "metadata": {
        "id": "j_NfLIbbOUme",
        "colab_type": "code",
        "colab": {
          "base_uri": "https://localhost:8080/",
          "height": 36
        },
        "outputId": "c1cf4ddc-76a3-4ab3-d55b-9acacfce17ca"
      },
      "source": [
        "a=0\n",
        "b=2\n",
        "h=(b-a)\n",
        "Integral = h*(f(a)+f(b))/2\n",
        "\n",
        "print(Integral)"
      ],
      "execution_count": null,
      "outputs": [
        {
          "output_type": "stream",
          "text": [
            "2.732050807568877\n"
          ],
          "name": "stdout"
        }
      ]
    },
    {
      "cell_type": "markdown",
      "metadata": {
        "id": "D3v4IuXtO7sU",
        "colab_type": "text"
      },
      "source": [
        "# SIMPSON'S RULE"
      ]
    },
    {
      "cell_type": "markdown",
      "metadata": {
        "id": "s0B_bf6pPBsS",
        "colab_type": "text"
      },
      "source": [
        "<img src = \"https://i.imgur.com/3GKEq0z.png\" align = \"center\">"
      ]
    },
    {
      "cell_type": "markdown",
      "metadata": {
        "id": "nqPEi4E8PckX",
        "colab_type": "text"
      },
      "source": [
        "**EXAMPLE**\n",
        "\n",
        "Solve $\\int_0^2 e^x(x-1) dx$ using Simpson's rule"
      ]
    },
    {
      "cell_type": "markdown",
      "metadata": {
        "id": "NulpVuYgUFqH",
        "colab_type": "text"
      },
      "source": [
        "Define the function $f(x)$ as a problem"
      ]
    },
    {
      "cell_type": "code",
      "metadata": {
        "id": "X7-bWBcmRCQt",
        "colab_type": "code",
        "colab": {}
      },
      "source": [
        "import numpy as np\n",
        "def f(x):\n",
        "  return np.exp(x)*(x-1)"
      ],
      "execution_count": null,
      "outputs": []
    },
    {
      "cell_type": "markdown",
      "metadata": {
        "id": "317XHwHbUGxB",
        "colab_type": "text"
      },
      "source": [
        "Solve the problem"
      ]
    },
    {
      "cell_type": "code",
      "metadata": {
        "id": "_1K43b4DRSsv",
        "colab_type": "code",
        "colab": {
          "base_uri": "https://localhost:8080/",
          "height": 36
        },
        "outputId": "0f784537-5c74-4981-8180-4cb0d5bd3ddf"
      },
      "source": [
        "a=0\n",
        "b=2\n",
        "h= (b-a)/2 \n",
        "x1= a+h \n",
        "Integral =h*(f(a)+4*f(x1)+f(b))/3  \n",
        "\n",
        "print(Integral)"
      ],
      "execution_count": null,
      "outputs": [
        {
          "output_type": "stream",
          "text": [
            "2.1296853663102167\n"
          ],
          "name": "stdout"
        }
      ]
    },
    {
      "cell_type": "markdown",
      "metadata": {
        "id": "ZkfF5ofcMAdw",
        "colab_type": "text"
      },
      "source": [
        "# Composite Trapezoidal rule"
      ]
    },
    {
      "cell_type": "markdown",
      "metadata": {
        "id": "sIM8Q2kTDHiH",
        "colab_type": "text"
      },
      "source": [
        "<img src = \"https://i.imgur.com/02xHiuv.png\" align = \"center\">\n"
      ]
    },
    {
      "cell_type": "markdown",
      "metadata": {
        "id": "PfAq_Mh5TyfL",
        "colab_type": "text"
      },
      "source": [
        "**EXAMPLE**\n",
        "\n",
        "Solve $\\int_0^2 e^x(x-1) dx$ using Composite Trapezoidal rule with n= 20"
      ]
    },
    {
      "cell_type": "markdown",
      "metadata": {
        "colab_type": "text",
        "id": "TxJyo7b2E1vL"
      },
      "source": [
        "Define the function $f(x)$ as a problem\n",
        "\n",
        "\n"
      ]
    },
    {
      "cell_type": "code",
      "metadata": {
        "colab_type": "code",
        "id": "vL-7Mrr9E1vN",
        "colab": {}
      },
      "source": [
        "import numpy as np\n",
        "\n",
        "def f(x):\n",
        "  return np.exp(x)*(x-1)"
      ],
      "execution_count": null,
      "outputs": []
    },
    {
      "cell_type": "markdown",
      "metadata": {
        "colab_type": "text",
        "id": "OLbKHprxE1vP"
      },
      "source": [
        "INPUT: Given the initial conditions"
      ]
    },
    {
      "cell_type": "code",
      "metadata": {
        "colab_type": "code",
        "id": "jSUqS9kmE1vQ",
        "colab": {}
      },
      "source": [
        "a = 0\n",
        "b = 2\n",
        "n = 20 "
      ],
      "execution_count": null,
      "outputs": []
    },
    {
      "cell_type": "markdown",
      "metadata": {
        "colab_type": "text",
        "id": "J-nVH31sE1vS"
      },
      "source": [
        "Execute in Newton's algorithm steps"
      ]
    },
    {
      "cell_type": "markdown",
      "metadata": {
        "colab_type": "text",
        "id": "G6Uai9uiE1vT"
      },
      "source": [
        "Step 1"
      ]
    },
    {
      "cell_type": "code",
      "metadata": {
        "colab_type": "code",
        "id": "3rQPBKoiE1vU",
        "colab": {}
      },
      "source": [
        "h = (b-a)/n"
      ],
      "execution_count": null,
      "outputs": []
    },
    {
      "cell_type": "markdown",
      "metadata": {
        "colab_type": "text",
        "id": "w4-Z_g_mE1vW"
      },
      "source": [
        "Step 2"
      ]
    },
    {
      "cell_type": "code",
      "metadata": {
        "colab_type": "code",
        "id": "MaGBbnkME1vX",
        "colab": {}
      },
      "source": [
        "X0 = f(a)+f(b)\n",
        "Xs =0"
      ],
      "execution_count": null,
      "outputs": []
    },
    {
      "cell_type": "markdown",
      "metadata": {
        "id": "7AnME13sVLm0",
        "colab_type": "text"
      },
      "source": [
        "Step 3 - 5"
      ]
    },
    {
      "cell_type": "code",
      "metadata": {
        "id": "SMOzAfRsVUzf",
        "colab_type": "code",
        "colab": {}
      },
      "source": [
        "for i in range(1,n):\n",
        "  X =  a+i*h\n",
        "  Xs =  Xs + f(X)"
      ],
      "execution_count": null,
      "outputs": []
    },
    {
      "cell_type": "markdown",
      "metadata": {
        "id": "OixRTPU-VkYU",
        "colab_type": "text"
      },
      "source": [
        "Step 6"
      ]
    },
    {
      "cell_type": "code",
      "metadata": {
        "id": "V1ZGCwfqVlsB",
        "colab_type": "code",
        "colab": {}
      },
      "source": [
        "X1 =  h*(X0+2*Xs)/2"
      ],
      "execution_count": null,
      "outputs": []
    },
    {
      "cell_type": "markdown",
      "metadata": {
        "id": "JbTHj3Z_V2jV",
        "colab_type": "text"
      },
      "source": [
        "Step 7"
      ]
    },
    {
      "cell_type": "code",
      "metadata": {
        "id": "WoSZLF1zVzZ3",
        "colab_type": "code",
        "colab": {
          "base_uri": "https://localhost:8080/",
          "height": 36
        },
        "outputId": "7038d6ed-f4bf-44e6-fc77-3df932826427"
      },
      "source": [
        "print(X1)"
      ],
      "execution_count": null,
      "outputs": [
        {
          "output_type": "stream",
          "text": [
            "2.012311267578199\n"
          ],
          "name": "stdout"
        }
      ]
    },
    {
      "cell_type": "markdown",
      "metadata": {
        "id": "mTETsls3Nf4F",
        "colab_type": "text"
      },
      "source": [
        "**Exercise**:\n",
        "\n",
        "<img src = \"https://i.imgur.com/UtJZb2y.png\" align = \"center\">\n",
        "\n"
      ]
    },
    {
      "cell_type": "markdown",
      "metadata": {
        "id": "QJEHyLZ34EH1",
        "colab_type": "text"
      },
      "source": [
        "1A"
      ]
    },
    {
      "cell_type": "code",
      "metadata": {
        "id": "pcisJsgrgJwK",
        "colab_type": "code",
        "colab": {
          "base_uri": "https://localhost:8080/",
          "height": 36
        },
        "outputId": "a5ccf357-b253-42e1-c3ea-54cbeec2623f"
      },
      "source": [
        "#1A\n",
        "import numpy as np\n",
        "\n",
        "def f(x):\n",
        "  return x*np.log(x)\n",
        "a = 1\n",
        "b = 2\n",
        "n = 4\n",
        "h = (b-a)/n\n",
        "X0 = f(a)+f(b)\n",
        "Xs =0\n",
        "for i in range(1,n):\n",
        "  X =  a+i*h\n",
        "  Xs =  Xs + f(X)\n",
        "X1 =  h*(X0+2*Xs)/2\n",
        "print(X1)\n"
      ],
      "execution_count": null,
      "outputs": [
        {
          "output_type": "stream",
          "text": [
            "0.639900477687986\n"
          ],
          "name": "stdout"
        }
      ]
    },
    {
      "cell_type": "markdown",
      "metadata": {
        "id": "UF_l7DKI4HKr",
        "colab_type": "text"
      },
      "source": [
        "1B"
      ]
    },
    {
      "cell_type": "code",
      "metadata": {
        "id": "FkDKer7mFiHz",
        "colab_type": "code",
        "colab": {
          "base_uri": "https://localhost:8080/",
          "height": 36
        },
        "outputId": "1b5e5373-8ffd-44a8-ddec-b42185f18a69"
      },
      "source": [
        "#1B\n",
        "import numpy as np\n",
        "\n",
        "def f(x):\n",
        "  return x**3*np.exp(x)\n",
        "a = -2\n",
        "b = 2\n",
        "n = 4\n",
        "h = (b-a)/n\n",
        "X0 = f(a)+f(b)\n",
        "Xs =0\n",
        "for i in range(1,n):\n",
        "  X =  a+i*h\n",
        "  Xs =  Xs + f(X)\n",
        "X1 =  h*(X0+2*Xs)/2\n",
        "print(X1)\n"
      ],
      "execution_count": null,
      "outputs": [
        {
          "output_type": "stream",
          "text": [
            "31.365285650063754\n"
          ],
          "name": "stdout"
        }
      ]
    },
    {
      "cell_type": "markdown",
      "metadata": {
        "id": "2DvQFdDo4JrE",
        "colab_type": "text"
      },
      "source": [
        "1C"
      ]
    },
    {
      "cell_type": "code",
      "metadata": {
        "id": "bjdyCjr1YqzO",
        "colab_type": "code",
        "colab": {
          "base_uri": "https://localhost:8080/",
          "height": 36
        },
        "outputId": "b30556ff-c63d-418d-aa74-11f770a3f9bd"
      },
      "source": [
        "#1C\n",
        "import numpy as np\n",
        "\n",
        "def f(x):\n",
        "  return 2/(x**2+4)\n",
        "a = 0\n",
        "b = 2\n",
        "n = 6\n",
        "h = (b-a)/n\n",
        "X0 = f(a)+f(b)\n",
        "Xs =0\n",
        "for i in range(1,n):\n",
        "  X =  a+i*h\n",
        "  Xs =  Xs + f(X)\n",
        "X1 =  h*(X0+2*Xs)/2\n",
        "print(X1)\n"
      ],
      "execution_count": null,
      "outputs": [
        {
          "output_type": "stream",
          "text": [
            "0.7842407666178159\n"
          ],
          "name": "stdout"
        }
      ]
    },
    {
      "cell_type": "markdown",
      "metadata": {
        "id": "DoSywQdI4Min",
        "colab_type": "text"
      },
      "source": [
        "1D"
      ]
    },
    {
      "cell_type": "code",
      "metadata": {
        "id": "R54B1OJxFt2j",
        "colab_type": "code",
        "colab": {
          "base_uri": "https://localhost:8080/",
          "height": 36
        },
        "outputId": "7be462b5-a38b-4746-9823-35340dccfe4a"
      },
      "source": [
        "#1D\n",
        "import numpy as np\n",
        "\n",
        "def f(x):\n",
        "  return x**2*np.cos(x)\n",
        "a = 0\n",
        "b = np.pi \n",
        "n = 6\n",
        "h = (b-a)/n\n",
        "X0 = f(a)+f(b)\n",
        "Xs =0\n",
        "for i in range(1,n):\n",
        "  X =  a+i*h\n",
        "  Xs =  Xs + f(X)\n",
        "X1 =  h*(X0+2*Xs)/2\n",
        "print(X1)\n"
      ],
      "execution_count": null,
      "outputs": [
        {
          "output_type": "stream",
          "text": [
            "-6.428722218023164\n"
          ],
          "name": "stdout"
        }
      ]
    },
    {
      "cell_type": "markdown",
      "metadata": {
        "id": "1Pr8wedz4PIz",
        "colab_type": "text"
      },
      "source": [
        "1E"
      ]
    },
    {
      "cell_type": "code",
      "metadata": {
        "id": "0_69YeLHbSJV",
        "colab_type": "code",
        "colab": {
          "base_uri": "https://localhost:8080/",
          "height": 36
        },
        "outputId": "2e5c8f90-c792-4f00-d427-7aa0edceac4d"
      },
      "source": [
        "#1E\n",
        "import numpy as np\n",
        "\n",
        "def f(x):\n",
        "  return np.exp2(x)*np.sin(3*x)\n",
        "a = 0\n",
        "b = 2\n",
        "n = 8\n",
        "h = (b-a)/n\n",
        "X0 = f(a)+f(b)\n",
        "Xs =0\n",
        "for i in range(1,n):\n",
        "  X =  a+i*h\n",
        "  Xs =  Xs + f(X)\n",
        "X1 =  h*(X0+2*Xs)/2\n",
        "print(X1)\n"
      ],
      "execution_count": null,
      "outputs": [
        {
          "output_type": "stream",
          "text": [
            "-0.94003361853113\n"
          ],
          "name": "stdout"
        }
      ]
    },
    {
      "cell_type": "markdown",
      "metadata": {
        "id": "gaIsQne64R5H",
        "colab_type": "text"
      },
      "source": [
        "1F"
      ]
    },
    {
      "cell_type": "code",
      "metadata": {
        "id": "JqIlcZHFNhVQ",
        "colab_type": "code",
        "colab": {
          "base_uri": "https://localhost:8080/",
          "height": 36
        },
        "outputId": "162194ce-9830-4615-be15-170d65071775"
      },
      "source": [
        "#1F\n",
        "import numpy as np\n",
        "\n",
        "def f(x):\n",
        "  return x/(x**2+4)\n",
        "a = 1\n",
        "b = 3\n",
        "n = 8\n",
        "h = (b-a)/n\n",
        "X0 = f(a)+f(b)\n",
        "Xs =0\n",
        "for i in range(1,n):\n",
        "  X =  a+i*h\n",
        "  Xs =  Xs + f(X)\n",
        "X1 =  h*(X0+2*Xs)/2\n",
        "print(X1)\n"
      ],
      "execution_count": null,
      "outputs": [
        {
          "output_type": "stream",
          "text": [
            "0.4769768665147184\n"
          ],
          "name": "stdout"
        }
      ]
    },
    {
      "cell_type": "markdown",
      "metadata": {
        "id": "wO2JK1sE4U6A",
        "colab_type": "text"
      },
      "source": [
        "1G"
      ]
    },
    {
      "cell_type": "code",
      "metadata": {
        "id": "NjL4xFm4uGuT",
        "colab_type": "code",
        "colab": {
          "base_uri": "https://localhost:8080/",
          "height": 36
        },
        "outputId": "c1ad57c7-03b9-482a-f985-2ab2998ac66b"
      },
      "source": [
        "#1G\n",
        "import numpy as np\n",
        "\n",
        "def f(x):\n",
        "  return 1/(np.sqrt(x**2-4))\n",
        "a = 3\n",
        "b = 5\n",
        "n = 8\n",
        "h = (b-a)/n\n",
        "X0 = f(a)+f(b)\n",
        "Xs =0\n",
        "for i in range(1,n):\n",
        "  X =  a+i*h\n",
        "  Xs =  Xs + f(X)\n",
        "X1 =  h*(X0+2*Xs)/2\n",
        "print(X1)\n"
      ],
      "execution_count": null,
      "outputs": [
        {
          "output_type": "stream",
          "text": [
            "0.6054975145421461\n"
          ],
          "name": "stdout"
        }
      ]
    },
    {
      "cell_type": "markdown",
      "metadata": {
        "id": "2cB_CWKJ4W5I",
        "colab_type": "text"
      },
      "source": [
        "1H"
      ]
    },
    {
      "cell_type": "code",
      "metadata": {
        "id": "Oa_OSG6INxNG",
        "colab_type": "code",
        "colab": {
          "base_uri": "https://localhost:8080/",
          "height": 36
        },
        "outputId": "bb3b7137-adbe-417c-8733-d95ded42543b"
      },
      "source": [
        "#1H\n",
        "import numpy as np\n",
        "\n",
        "def f(x):\n",
        "  return np.tan(x)\n",
        "a = 0\n",
        "b = 3*np.pi/8\n",
        "n = 8\n",
        "h = (b-a)/n\n",
        "X0 = f(a)+f(b)\n",
        "Xs =0\n",
        "for i in range(1,n):\n",
        "  X =  a+i*h\n",
        "  Xs =  Xs + f(X)\n",
        "X1 =  h*(X0+2*Xs)/2\n",
        "print(X1)\n"
      ],
      "execution_count": null,
      "outputs": [
        {
          "output_type": "stream",
          "text": [
            "0.9709263066791302\n"
          ],
          "name": "stdout"
        }
      ]
    },
    {
      "cell_type": "markdown",
      "metadata": {
        "colab_type": "text",
        "id": "RXH8SAB2Y517"
      },
      "source": [
        "# Composite Simpson's rule"
      ]
    },
    {
      "cell_type": "markdown",
      "metadata": {
        "colab_type": "text",
        "id": "QHnFODr8Y519"
      },
      "source": [
        "<img src = \"https://i.imgur.com/TR1NNOa.png\" align = \"center\">\n"
      ]
    },
    {
      "cell_type": "markdown",
      "metadata": {
        "colab_type": "text",
        "id": "Kn7_eRkQY51-"
      },
      "source": [
        "**EXAMPLE**\n",
        "\n",
        "Solve $\\int_0^2 e^x(x-1) dx$ using Composite Trapezoidal rule with n= 20"
      ]
    },
    {
      "cell_type": "markdown",
      "metadata": {
        "colab_type": "text",
        "id": "3awuJXZVY51_"
      },
      "source": [
        "Define the function $f(x)$ as a problem\n",
        "\n",
        "\n"
      ]
    },
    {
      "cell_type": "code",
      "metadata": {
        "colab_type": "code",
        "id": "RIiLfzZ9Y52A",
        "colab": {}
      },
      "source": [
        "import numpy as np\n",
        "\n",
        "def f(x):\n",
        "  return np.exp(x)*(x-1)"
      ],
      "execution_count": null,
      "outputs": []
    },
    {
      "cell_type": "markdown",
      "metadata": {
        "colab_type": "text",
        "id": "1lnQtVIyY52I"
      },
      "source": [
        "INPUT: Given the initial conditions"
      ]
    },
    {
      "cell_type": "code",
      "metadata": {
        "colab_type": "code",
        "id": "pyWdIvmYY52J",
        "colab": {}
      },
      "source": [
        "a = 0\n",
        "b = 2\n",
        "n = 20 "
      ],
      "execution_count": null,
      "outputs": []
    },
    {
      "cell_type": "markdown",
      "metadata": {
        "colab_type": "text",
        "id": "8qr6k62-Y52M"
      },
      "source": [
        "Execute in Newton's algorithm steps"
      ]
    },
    {
      "cell_type": "markdown",
      "metadata": {
        "colab_type": "text",
        "id": "3w1svXjFY52N"
      },
      "source": [
        "Step 1"
      ]
    },
    {
      "cell_type": "code",
      "metadata": {
        "colab_type": "code",
        "id": "Y8LaGoXMY52O",
        "colab": {}
      },
      "source": [
        "h = (b-a)/n"
      ],
      "execution_count": null,
      "outputs": []
    },
    {
      "cell_type": "markdown",
      "metadata": {
        "colab_type": "text",
        "id": "p41JyS5qY52Q"
      },
      "source": [
        "Step 2"
      ]
    },
    {
      "cell_type": "code",
      "metadata": {
        "colab_type": "code",
        "id": "8inMglaMY52R",
        "colab": {}
      },
      "source": [
        "X0 = f(a)+f(b)\n",
        "X1 = 0\n",
        "X2 = 0"
      ],
      "execution_count": null,
      "outputs": []
    },
    {
      "cell_type": "markdown",
      "metadata": {
        "colab_type": "text",
        "id": "ELOdruU9Y52U"
      },
      "source": [
        "Step 3 - 5"
      ]
    },
    {
      "cell_type": "code",
      "metadata": {
        "colab_type": "code",
        "id": "tldCHJhTY52V",
        "colab": {}
      },
      "source": [
        "for i in range(1,n):\n",
        "  X =  a+i*h\n",
        "  if (i % 2 == 0):\n",
        "      X2 =  X2 + f(X)\n",
        "  else :\n",
        "      X1 =  X1 + f(X)"
      ],
      "execution_count": null,
      "outputs": []
    },
    {
      "cell_type": "markdown",
      "metadata": {
        "colab_type": "text",
        "id": "vFFfXx0aY52X"
      },
      "source": [
        "Step 6"
      ]
    },
    {
      "cell_type": "code",
      "metadata": {
        "colab_type": "code",
        "id": "5DEMwmdFY52Y",
        "colab": {}
      },
      "source": [
        "XI =  h*(X0+2*X2+4*X1)/3"
      ],
      "execution_count": null,
      "outputs": []
    },
    {
      "cell_type": "markdown",
      "metadata": {
        "colab_type": "text",
        "id": "UluF6bjtY52b"
      },
      "source": [
        "Step 7"
      ]
    },
    {
      "cell_type": "code",
      "metadata": {
        "colab_type": "code",
        "id": "jArbZGkMY52c",
        "colab": {
          "base_uri": "https://localhost:8080/",
          "height": 36
        },
        "outputId": "a75de64e-50e4-4ebb-db35-cf5567cf6c11"
      },
      "source": [
        "print(XI)"
      ],
      "execution_count": null,
      "outputs": [
        {
          "output_type": "stream",
          "text": [
            "2.0000152823742425\n"
          ],
          "name": "stdout"
        }
      ]
    },
    {
      "cell_type": "markdown",
      "metadata": {
        "colab_type": "text",
        "id": "z1HjJEFZY52h"
      },
      "source": [
        "**Exercise**:\n",
        "\n",
        "Use the Composite Simpson's rule with the indicated values of $n$ to approximate the following integrals.\n",
        "\n",
        "<img src = \"https://i.imgur.com/FtPs0Tc.png\" align = \"center\">\n",
        "\n"
      ]
    },
    {
      "cell_type": "markdown",
      "metadata": {
        "id": "BSuoH9AN4aQY",
        "colab_type": "text"
      },
      "source": [
        "A"
      ]
    },
    {
      "cell_type": "code",
      "metadata": {
        "id": "KtyWRlqvR7k5",
        "colab_type": "code",
        "colab": {
          "base_uri": "https://localhost:8080/",
          "height": 36
        },
        "outputId": "0acfd18f-ad08-4259-c6de-561ade3aa62c"
      },
      "source": [
        "#A\n",
        "\n",
        "import numpy as np\n",
        "\n",
        "def f(x):\n",
        "  return np.cos(x)**2\n",
        "\n",
        "a = -0.5\n",
        "b = 0.5\n",
        "n = 4 \n",
        "\n",
        "h = (b-a)/n\n",
        "X0 = f(a)+f(b)\n",
        "X1 = 0\n",
        "X2 = 0\n",
        "\n",
        "for i in range(1,n):\n",
        "  X =  a+i*h\n",
        "  if (i % 2 == 0):\n",
        "      X2 =  X2 + f(X)\n",
        "  else :\n",
        "      X1 =  X1 + f(X)\n",
        "\n",
        "XI =  h*(X0+2*X2+4*X1)/3\n",
        "print(XI)"
      ],
      "execution_count": null,
      "outputs": [
        {
          "output_type": "stream",
          "text": [
            "0.9208860461191358\n"
          ],
          "name": "stdout"
        }
      ]
    },
    {
      "cell_type": "markdown",
      "metadata": {
        "id": "wyumWqZ04c_5",
        "colab_type": "text"
      },
      "source": [
        "B"
      ]
    },
    {
      "cell_type": "code",
      "metadata": {
        "id": "sK2y6fEzUYFf",
        "colab_type": "code",
        "colab": {
          "base_uri": "https://localhost:8080/",
          "height": 36
        },
        "outputId": "034b214a-49de-4ce4-cdd9-b4fd16749a7b"
      },
      "source": [
        "#B\n",
        "\n",
        "import numpy as np\n",
        "\n",
        "def f(x):\n",
        "  return x*np.log(x+1)\n",
        "\n",
        "a = -0.5\n",
        "b = 0.5\n",
        "n = 6 \n",
        "\n",
        "h = (b-a)/n\n",
        "X0 = f(a)+f(b)\n",
        "X1 = 0\n",
        "X2 = 0\n",
        "\n",
        "for i in range(1,n):\n",
        "  X =  a+i*h\n",
        "  if (i % 2 == 0):\n",
        "      X2 =  X2 + f(X)\n",
        "  else :\n",
        "      X1 =  X1 + f(X)\n",
        "\n",
        "XI =  h*(X0+2*X2+4*X1)/3\n",
        "print(XI)"
      ],
      "execution_count": null,
      "outputs": [
        {
          "output_type": "stream",
          "text": [
            "0.08809221096042885\n"
          ],
          "name": "stdout"
        }
      ]
    },
    {
      "cell_type": "markdown",
      "metadata": {
        "id": "cYwBm9ue4gO3",
        "colab_type": "text"
      },
      "source": [
        "C"
      ]
    },
    {
      "cell_type": "code",
      "metadata": {
        "id": "dioqyOrhSYLH",
        "colab_type": "code",
        "colab": {
          "base_uri": "https://localhost:8080/",
          "height": 36
        },
        "outputId": "f5ad73bc-9d83-4a4b-cb9c-2edbd19b0ffa"
      },
      "source": [
        "#C\n",
        "\n",
        "import numpy as np\n",
        "\n",
        "def f(x):\n",
        "  return np.sin(x)**2-2*x*np.sin(x)+1\n",
        "\n",
        "a = 1.75\n",
        "b = 0.75\n",
        "n = 8 \n",
        "\n",
        "h = (b-a)/n\n",
        "X0 = f(a)+f(b)\n",
        "X1 = 0\n",
        "X2 = 0\n",
        "\n",
        "for i in range(1,n):\n",
        "  X =  a+i*h\n",
        "  if (i % 2 == 0):\n",
        "      X2 =  X2 + f(X)\n",
        "  else :\n",
        "      X1 =  X1 + f(X)\n",
        "\n",
        "XI =  h*(X0+2*X2+4*X1)/3\n",
        "print(XI)"
      ],
      "execution_count": null,
      "outputs": [
        {
          "output_type": "stream",
          "text": [
            "0.48901181953615186\n"
          ],
          "name": "stdout"
        }
      ]
    },
    {
      "cell_type": "markdown",
      "metadata": {
        "id": "LETAaotX4iAt",
        "colab_type": "text"
      },
      "source": [
        "D"
      ]
    },
    {
      "cell_type": "code",
      "metadata": {
        "id": "ESwuw7g9TP6u",
        "colab_type": "code",
        "colab": {
          "base_uri": "https://localhost:8080/",
          "height": 36
        },
        "outputId": "22a736d0-94b6-47a1-dab4-8a8fe16ce117"
      },
      "source": [
        "#D\n",
        "\n",
        "import numpy as np\n",
        "\n",
        "def f(x):\n",
        "  return 1/(x*np.log(x))\n",
        "\n",
        "a = np.e\n",
        "b = np.e+2\n",
        "n = 8 \n",
        "\n",
        "h = (b-a)/n\n",
        "X0 = f(a)+f(b)\n",
        "X1 = 0\n",
        "X2 = 0\n",
        "\n",
        "for i in range(1,n):\n",
        "  X =  a+i*h\n",
        "  if (i % 2 == 0):\n",
        "      X2 =  X2 + f(X)\n",
        "  else :\n",
        "      X1 =  X1 + f(X)\n",
        "\n",
        "XI =  h*(X0+2*X2+4*X1)/3\n",
        "print(XI)"
      ],
      "execution_count": null,
      "outputs": [
        {
          "output_type": "stream",
          "text": [
            "0.4391992595058245\n"
          ],
          "name": "stdout"
        }
      ]
    },
    {
      "cell_type": "code",
      "metadata": {
        "id": "FdUmn_R9TrZw",
        "colab_type": "code",
        "colab": {}
      },
      "source": [
        ""
      ],
      "execution_count": null,
      "outputs": []
    }
  ]
}