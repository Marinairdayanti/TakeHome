{
  "nbformat": 4,
  "nbformat_minor": 0,
  "metadata": {
    "colab": {
      "name": "HOMEWORK WEEK 5 -MARINA IRDAYANTI -1301174319.ipynb",
      "provenance": []
    },
    "kernelspec": {
      "name": "python3",
      "display_name": "Python 3"
    }
  },
  "cells": [
    {
      "cell_type": "markdown",
      "metadata": {
        "id": "sNOe272UIGB2",
        "colab_type": "text"
      },
      "source": [
        "HOMEWORK WEEK 5\n",
        "\n",
        "NAMA : MARINA IRDAYANTI\n",
        "\n",
        "NIM : 1301174319 "
      ]
    },
    {
      "cell_type": "markdown",
      "metadata": {
        "id": "w6hSrKItmb9I",
        "colab_type": "text"
      },
      "source": [
        "# Exercise\n",
        "\n",
        "<center><img src = \"https://i.imgur.com/a7Lkz1K.png\" align = \"center\"> </center>\n"
      ]
    },
    {
      "cell_type": "markdown",
      "metadata": {
        "id": "j9SkZEmabwji",
        "colab_type": "text"
      },
      "source": [
        "**SOAL A**"
      ]
    },
    {
      "cell_type": "code",
      "metadata": {
        "id": "xfz7Ba91xPR8",
        "colab_type": "code",
        "outputId": "71137c1c-4f5d-4793-83be-9c43ce3c725a",
        "colab": {
          "base_uri": "https://localhost:8080/",
          "height": 218
        }
      },
      "source": [
        "import numpy as np\n",
        "\n",
        "def F(X):\n",
        "  f1 =  3*X[0]-X[1]**2\n",
        "  f2 =  3*X[0]*X[1]**2-X[0]**3-1\n",
        "\n",
        "  return [f1, f2]\n",
        "\n",
        "  x = [0, 0]\n",
        "example = F(x)\n",
        "example"
      ],
      "execution_count": 1,
      "outputs": [
        {
          "output_type": "error",
          "ename": "NameError",
          "evalue": "ignored",
          "traceback": [
            "\u001b[0;31m---------------------------------------------------------------------------\u001b[0m",
            "\u001b[0;31mNameError\u001b[0m                                 Traceback (most recent call last)",
            "\u001b[0;32m<ipython-input-1-6dc24bad97b8>\u001b[0m in \u001b[0;36m<module>\u001b[0;34m()\u001b[0m\n\u001b[1;32m      8\u001b[0m \u001b[0;34m\u001b[0m\u001b[0m\n\u001b[1;32m      9\u001b[0m   \u001b[0mx\u001b[0m \u001b[0;34m=\u001b[0m \u001b[0;34m[\u001b[0m\u001b[0;36m0\u001b[0m\u001b[0;34m,\u001b[0m \u001b[0;36m0\u001b[0m\u001b[0;34m]\u001b[0m\u001b[0;34m\u001b[0m\u001b[0;34m\u001b[0m\u001b[0m\n\u001b[0;32m---> 10\u001b[0;31m \u001b[0mexample\u001b[0m \u001b[0;34m=\u001b[0m \u001b[0mF\u001b[0m\u001b[0;34m(\u001b[0m\u001b[0mx\u001b[0m\u001b[0;34m)\u001b[0m\u001b[0;34m\u001b[0m\u001b[0;34m\u001b[0m\u001b[0m\n\u001b[0m\u001b[1;32m     11\u001b[0m \u001b[0mexample\u001b[0m\u001b[0;34m\u001b[0m\u001b[0;34m\u001b[0m\u001b[0m\n",
            "\u001b[0;31mNameError\u001b[0m: name 'x' is not defined"
          ]
        }
      ]
    },
    {
      "cell_type": "code",
      "metadata": {
        "id": "mWh5ziY2xPaL",
        "colab_type": "code",
        "colab": {}
      },
      "source": [
        "def J(X):\n",
        "   \n",
        "   a11 = 3\n",
        "   a12 = -2*X[1]\n",
        "   a21 = 6*X[1]-3*X[0]**2\n",
        "   a22 = 6*X[0]\n",
        "  \n",
        "   return  [[a11, a12], [a21, a22]]\n",
        "\n",
        "exp = J([0,0])\n",
        "exp"
      ],
      "execution_count": 0,
      "outputs": []
    },
    {
      "cell_type": "code",
      "metadata": {
        "id": "wmA-Dp0nxfD1",
        "colab_type": "code",
        "colab": {}
      },
      "source": [
        "def error(X, X1):\n",
        "  return min(np.absolute(X-X1))\n",
        "\n",
        "x = [1, 1]\n",
        "TOL = 0.0001\n",
        "N = 200"
      ],
      "execution_count": 0,
      "outputs": []
    },
    {
      "cell_type": "code",
      "metadata": {
        "id": "NRYLMqtCROrc",
        "colab_type": "code",
        "colab": {}
      },
      "source": [
        "#step 1\n",
        "k= 1\n",
        "xold=np.ones(len(x))\n",
        "\n",
        "print('iteration: ', k)\n",
        "print('error: ',error(x,xold))\n",
        "print(x)\n",
        "\n",
        "#Step 2 \n",
        "while (k<=N) and (error(x,xold)>TOL) : \n",
        "  #step 3\n",
        "  Fx = F(x)\n",
        "  Jac = J(x)\n",
        "  #step 4\n",
        "  y = np.linalg.inv(Jac)@(Fx)\n",
        "  xold = x\n",
        "  #step 5\n",
        "  x = x-y\n",
        "  #step 6\n",
        "  k = k +1\n",
        "  print('iteration: ', k)\n",
        "  print('error: ',error(x,xold)) \n",
        "  print(x)\n"
      ],
      "execution_count": 0,
      "outputs": []
    },
    {
      "cell_type": "markdown",
      "metadata": {
        "id": "GyntEmgyegsI",
        "colab_type": "text"
      },
      "source": [
        "**SOAL B**"
      ]
    },
    {
      "cell_type": "code",
      "metadata": {
        "id": "eO7mWyRSehzW",
        "colab_type": "code",
        "colab": {}
      },
      "source": [
        "import numpy as np\n",
        "\n",
        "def F(X):\n",
        "  f1 =  np.log(X[0]**2+X[1]**2)-np.sin(X[0]*X[1])-np.log(2)-np.log(np.pi)\n",
        "  f2 =  np.exp(X[0]-X[1])+np.cos(X[0]*X[1])\n",
        "  return [f1, f2]\n",
        "\n",
        "x = [2, 2]\n",
        "example = F(x)\n",
        "example\n",
        "\n",
        "def J(X):\n",
        "   a11 = (2*X[0]/(X[0]**2+X[1]**2))-np.sin(X[0]-X[1])-np.log(2*np.pi)\n",
        "   a12 = (2*X[1]/(X[0]**2+X[1]**2))-np.sin(X[0]-X[1])-np.log(2*np.pi)\n",
        "   a21 = np.exp(X[0]-X[1]) - X[1]*np.sin(X[1]*X[0])\n",
        "   a22 = -(np.exp(X[0]-X[1])) - X[0]*np.sin(X[0]*X[1])\n",
        "   \n",
        "   return [[a11, a12], [a21,a22]] \n",
        "   \n",
        "exp = J(x)\n",
        "exp\n",
        "\n",
        "def error(X, X1):\n",
        "  return min(np.absolute(X-X1))\n",
        "\n",
        "x = [2, 2]\n",
        "TOL = 0.00001\n",
        "N = 200\n",
        "\n",
        "#step 1\n",
        "k= 1\n",
        "xold=np.ones(len(x))\n",
        "\n",
        "print('iteration: ', k)\n",
        "print('error: ',error(x,xold))\n",
        "print(x)\n",
        "\n",
        "#Step 2 \n",
        "while (k<=N) and (error(x,xold)>TOL) :\n",
        "  #step 3\n",
        "  Fx = F(x)\n",
        "  Jac = J(x)\n",
        "  #step 4\n",
        "  y = np.linalg.inv(Jac)@(Fx)\n",
        "  #step 5\n",
        "  x = x-y\n",
        "  #step 6\n",
        "  k = k +1\n",
        "  print('iteration: ', k)\n",
        "  print('error: ',error(x,xold)) \n",
        "  print(x)"
      ],
      "execution_count": 0,
      "outputs": []
    },
    {
      "cell_type": "markdown",
      "metadata": {
        "id": "zxKv7ERiekKu",
        "colab_type": "text"
      },
      "source": [
        "**SOAL C**"
      ]
    },
    {
      "cell_type": "code",
      "metadata": {
        "id": "L9L2ssctel3T",
        "colab_type": "code",
        "colab": {}
      },
      "source": [
        "import numpy as np\n",
        "\n",
        "def F(X):\n",
        "  f1 =  X[0]**3+X[0]**2*X[1]-X[0]**3*X[2]+6\n",
        "  f2 =  np.exp(X[0])+np.exp(X[1])-X[2]\n",
        "  f3 =  X[1]**2-2*(X[0]*X[2])**2-4\n",
        "  return [f1, f2, f3]\n",
        "\n",
        "x = [0, 0, 0]\n",
        "example = F(x)\n",
        "example\n",
        "\n",
        "def J(X):\n",
        "   \n",
        "   a11 = 3*X[0]**2\n",
        "   a12 = 0\n",
        "   a13 = 0\n",
        "   a21 = np.exp(X[0])\n",
        "   a22 = np.exp(X[1])\n",
        "   a23 = 1\n",
        "   a31 = 0\n",
        "   a32 = 2*X[1]\n",
        "   a33 = 0\n",
        "  \n",
        "   return  [[a11, a12, a13], [a21, a22, a23], [a31, a32, a33]]\n",
        "\n",
        "exp = J([0,0,0])\n",
        "exp\n",
        "  \n",
        "def error(X, X1):\n",
        "  return min(np.absolute(X-X1))\n",
        "\n",
        "x = [-1, -2, 1]\n",
        "TOL = 0.0001\n",
        "N = 200\n",
        "\n",
        "#step 1\n",
        "k= 1\n",
        "xold=np.ones(len(x))\n",
        "\n",
        "print('iteration: ', k)\n",
        "print('error: ',error(x,xold))\n",
        "print(x)\n",
        "\n",
        "#Step 2 \n",
        "while (k<=N) and (error(x,xold)>TOL) : \n",
        "  #step 3\n",
        "  Fx = F(x)\n",
        "  Jac = J(x)\n",
        "  #step 4\n",
        "  y = np.linalg.inv(Jac)@(Fx)\n",
        "  xold = x\n",
        "  #step 5\n",
        "  x = x-y\n",
        "  #step 6\n",
        "  k = k +1\n",
        "  print('iteration: ', k)\n",
        "  print('error: ',error(x,xold)) \n",
        "  print(x)\n"
      ],
      "execution_count": 0,
      "outputs": []
    },
    {
      "cell_type": "markdown",
      "metadata": {
        "id": "MUKbTLfnem8l",
        "colab_type": "text"
      },
      "source": [
        "**SOAL D**"
      ]
    },
    {
      "cell_type": "code",
      "metadata": {
        "id": "iGEPXKGMeoRP",
        "colab_type": "code",
        "colab": {}
      },
      "source": [
        "import numpy as np\n",
        "\n",
        "def F(X):\n",
        "  f1 =  6*X[0]-2*np.cos(X[1]*X[2])-1\n",
        "  f2 =  9*X[1]+np.sqrt(X[0]**2+np.sin(X[2])+1.06)+0.9\n",
        "  f3 =  60*X[2]+3*np.exp(-X[0]*X[1])+10*np.pi-3\n",
        "  return [f1, f2, f3]\n",
        "\n",
        "x = [0, 0, 0]\n",
        "example = F(x)\n",
        "example\n",
        "\n",
        "def J(X):\n",
        "   a11 = 6\n",
        "   a12 = 2*X[2]*np.sin(X[1]*X[2])\n",
        "   a13 = 2*X[1]*np.sin(X[1]*X[2])\n",
        "   a21 = X[0]/np.sqrt(X[0]**2+np.sin(X[2])+1.06)\n",
        "   a22 = 9\n",
        "   a23 = 0.5*np.cos(X[2])/np.sqrt(X[0]**2+np.sin(X[2])+1.06)\n",
        "   a31 = -3*np.exp(-X[0]*X[1])*X[1]\n",
        "   a32 = -3*np.exp(-X[0]*X[1])*X[0]\n",
        "   a33 = 60\n",
        "   \n",
        "   return [[a11, a12, a13], [a21,a22,a23], [a31, a32, a33]] \n",
        "   \n",
        "exp = J(x)\n",
        "exp\n",
        "\n",
        "def error(X, X1):\n",
        "  return min(np.absolute(X-X1))\n",
        "\n",
        "x = [0, 0, 0]\n",
        "TOL = 0.00001\n",
        "N = 200\n",
        "\n",
        "#step 1\n",
        "k= 1\n",
        "xold=np.ones(len(x))\n",
        "\n",
        "print('iteration: ', k)\n",
        "print('error: ',error(x,xold))\n",
        "print(x)\n",
        "\n",
        "#Step 2 \n",
        "while (k<=N) and (error(x,xold)>TOL) :\n",
        "  #step 3\n",
        "  Fx = F(x)\n",
        "  Jac = J(x)\n",
        "  #step 4\n",
        "  y = np.linalg.inv(Jac)@(Fx)\n",
        "  #step 5\n",
        "  x = x-y\n",
        "  #step 6\n",
        "  k = k +1\n",
        "  print('iteration: ', k)\n",
        "  print('error: ',error(x,xold)) \n",
        "  print(x)"
      ],
      "execution_count": 0,
      "outputs": []
    },
    {
      "cell_type": "code",
      "metadata": {
        "id": "VxtcyqXa2bn-",
        "colab_type": "code",
        "colab": {}
      },
      "source": [
        ""
      ],
      "execution_count": 0,
      "outputs": []
    }
  ]
}