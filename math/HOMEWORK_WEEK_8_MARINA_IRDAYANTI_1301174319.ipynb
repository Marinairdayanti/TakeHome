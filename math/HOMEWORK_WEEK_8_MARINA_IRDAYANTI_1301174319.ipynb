{
  "nbformat": 4,
  "nbformat_minor": 0,
  "metadata": {
    "colab": {
      "name": "HOMEWORK WEEK 8 - MARINA IRDAYANTI-1301174319.ipynb",
      "provenance": []
    },
    "kernelspec": {
      "name": "python3",
      "display_name": "Python 3"
    }
  },
  "cells": [
    {
      "cell_type": "code",
      "metadata": {
        "id": "wPjnidEn4oBX",
        "colab_type": "code",
        "colab": {}
      },
      "source": [
        ""
      ],
      "execution_count": 0,
      "outputs": []
    },
    {
      "cell_type": "markdown",
      "metadata": {
        "id": "w6hSrKItmb9I",
        "colab_type": "text"
      },
      "source": [
        "# Exercise\n",
        "\n",
        "<center><img src = \"https://i.imgur.com/f2Vytli.png\" align = \"center\"> </center>\n",
        "<center><img src = \"https://i.imgur.com/BkmOko6.png\" align = \"center\"> </center>\n"
      ]
    },
    {
      "cell_type": "markdown",
      "metadata": {
        "id": "NEluWUlRYh3I",
        "colab_type": "text"
      },
      "source": [
        "# **Exercise 1 & 3**"
      ]
    },
    {
      "cell_type": "markdown",
      "metadata": {
        "id": "WAiLXnjM7r8B",
        "colab_type": "text"
      },
      "source": [
        "# **A**"
      ]
    },
    {
      "cell_type": "code",
      "metadata": {
        "id": "Wg7b_7645bUR",
        "colab_type": "code",
        "outputId": "f46a3e8d-7b3b-4e38-b554-9c8dd7b8c204",
        "colab": {
          "base_uri": "https://localhost:8080/",
          "height": 72
        }
      },
      "source": [
        "import numpy as np\n",
        "\n",
        "def f(t,y):\n",
        "  return t*np.exp(3*t) - 2*y\n",
        "\n",
        "def fe(t):\n",
        "  return 1/5*t*np.exp(3*t) - 1/25*np.exp(3*t) + 1/25*np.exp(-2*t)\n",
        "\n",
        "a = 0\n",
        "b = 1\n",
        "N = 2\n",
        "A = 0\n",
        "\n",
        "h = (b-a)/N\n",
        "t = a\n",
        "w = A\n",
        "\n",
        "for i in range (1) :\n",
        "  t = a + i*h\n",
        "  y1 = fe(t)  \n",
        "  dif = abs(y1-w)\n",
        "  print(\"{} | {} | {} | {}\".format(t,w,y1,dif))  \n",
        "\n",
        "for i in range(1,N+1) :\n",
        "  w = w + h * f(t,w)\n",
        "  t = a + i*h\n",
        "  y1 = fe(t)\n",
        "  dif = abs(y1-w)\n",
        "  print(\"{} | {} | {} | {}\".format(t,w,y1,dif))  "
      ],
      "execution_count": 31,
      "outputs": [
        {
          "output_type": "stream",
          "text": [
            "0.0 | 0 | 0.0 | 0.0\n",
            "0.5 | 0.0 | 0.2836165218671416 | 0.2836165218671416\n",
            "1.0 | 1.1204222675845161 | 3.2190993190394916 | 2.0986770514549757\n"
          ],
          "name": "stdout"
        }
      ]
    },
    {
      "cell_type": "markdown",
      "metadata": {
        "id": "240zjRe792_K",
        "colab_type": "text"
      },
      "source": [
        "# **B**"
      ]
    },
    {
      "cell_type": "code",
      "metadata": {
        "id": "MJSUwst695K2",
        "colab_type": "code",
        "outputId": "62a3047e-1c9a-4fab-ebe9-044ce05915e0",
        "colab": {
          "base_uri": "https://localhost:8080/",
          "height": 72
        }
      },
      "source": [
        "import numpy as np\n",
        "\n",
        "def f(t,y):\n",
        "  return 1 + (t-y)**2\n",
        "\n",
        "def fe(t):\n",
        "  return t + 1/(1-t)\n",
        "\n",
        "a = 2\n",
        "b = 3\n",
        "N = 2\n",
        "A = 1 \n",
        "\n",
        "h = (b-a)/N\n",
        "t = a\n",
        "w = A\n",
        "\n",
        "for i in range (1) :\n",
        "  t = a + i*h\n",
        "  y1 = fe(t)  \n",
        "  dif = abs(y1-w)\n",
        "  print(\"{} | {} | {} | {}\".format(t,w,y1,dif))  \n",
        "\n",
        "for i in range(1,N+1) :\n",
        "  w = w + h * f(t,w)\n",
        "  t = a + i*h\n",
        "  y1 = fe(t)\n",
        "  dif = abs(y1-w)\n",
        "  print(\"{} | {} | {} | {}\".format(t,w,y1,dif)) "
      ],
      "execution_count": 33,
      "outputs": [
        {
          "output_type": "stream",
          "text": [
            "2.0 | 1 | 1.0 | 0.0\n",
            "2.5 | 2.0 | 1.8333333333333335 | 0.16666666666666652\n",
            "3.0 | 2.625 | 2.5 | 0.125\n"
          ],
          "name": "stdout"
        }
      ]
    },
    {
      "cell_type": "markdown",
      "metadata": {
        "id": "OjH02H-o_Fgk",
        "colab_type": "text"
      },
      "source": [
        "# **C**"
      ]
    },
    {
      "cell_type": "code",
      "metadata": {
        "id": "GZmODONh--e3",
        "colab_type": "code",
        "outputId": "3fdc0d8c-6183-4ef8-dea2-d7fb5e7f6fb5",
        "colab": {
          "base_uri": "https://localhost:8080/",
          "height": 109
        }
      },
      "source": [
        "import numpy as np\n",
        "\n",
        "def f(t,y):\n",
        "  return 1 + y/t\n",
        "\n",
        "def fe(t):\n",
        "  return t*np.log(t) + 2*t\n",
        "\n",
        "a = 1\n",
        "b = 2\n",
        "N = 4\n",
        "A = 2 \n",
        "\n",
        "h = (b-a)/N\n",
        "t = a\n",
        "w = A\n",
        "\n",
        "for i in range (1) :\n",
        "  t = a + i*h\n",
        "  y1 = fe(t)  \n",
        "  dif = abs(y1-w)\n",
        "  print(\"{} | {} | {} | {}\".format(t,w,y1,dif))  \n",
        "\n",
        "for i in range(1,N+1) :\n",
        "  w = w + h * f(t,w)\n",
        "  t = a + i*h\n",
        "  y1 = fe(t)\n",
        "  dif = abs(y1-w)\n",
        "  print(\"{} | {} | {} | {}\".format(t,w,y1,dif)) "
      ],
      "execution_count": 34,
      "outputs": [
        {
          "output_type": "stream",
          "text": [
            "1.0 | 2 | 2.0 | 0.0\n",
            "1.25 | 2.75 | 2.7789294391427624 | 0.02892943914276236\n",
            "1.5 | 3.55 | 3.6081976621622465 | 0.058197662162246644\n",
            "1.75 | 4.391666666666667 | 4.47932762888699 | 0.08766096222032349\n",
            "2.0 | 5.269047619047619 | 5.386294361119891 | 0.11724674207227181\n"
          ],
          "name": "stdout"
        }
      ]
    },
    {
      "cell_type": "markdown",
      "metadata": {
        "id": "kpBIldXR_qQC",
        "colab_type": "text"
      },
      "source": [
        "# **D**"
      ]
    },
    {
      "cell_type": "code",
      "metadata": {
        "id": "6VHiiSEL_mVn",
        "colab_type": "code",
        "outputId": "e0568053-7fc9-4ec6-c1e7-147383e3efb9",
        "colab": {
          "base_uri": "https://localhost:8080/",
          "height": 109
        }
      },
      "source": [
        "import numpy as np\n",
        "\n",
        "def f(t,y):\n",
        "  return np.cos(2*t) + np.sin(3*t)\n",
        "\n",
        "def fe(t):\n",
        "  return 1/2*np.sin(2*t) - 1/3*np.cos(3*t) + 4/3\n",
        "\n",
        "a = 0\n",
        "b = 1\n",
        "N = 4\n",
        "A = 1 \n",
        "\n",
        "h = (b-a)/N\n",
        "t = a\n",
        "w = A\n",
        "\n",
        "for i in range (1) :\n",
        "  t = a + i*h\n",
        "  y1 = fe(t)  \n",
        "  dif = abs(y1-w)\n",
        "  print(\"{} | {} | {} | {}\".format(t,w,y1,dif))  \n",
        "\n",
        "for i in range(1,N+1) :\n",
        "  w = w + h * f(t,w)\n",
        "  t = a + i*h\n",
        "  y1 = fe(t)\n",
        "  dif = abs(y1-w)\n",
        "  print(\"{} | {} | {} | {}\".format(t,w,y1,dif)) "
      ],
      "execution_count": 35,
      "outputs": [
        {
          "output_type": "stream",
          "text": [
            "0.0 | 1 | 1.0 | 0.0\n",
            "0.25 | 1.25 | 1.3291498130108277 | 0.07914981301082769\n",
            "0.5 | 1.6398053304784268 | 1.7304897585147139 | 0.09068442803628707\n",
            "0.75 | 2.0242546535964756 | 2.041472034209607 | 0.017217380613131272\n",
            "1.0 | 2.2364572532353817 | 2.1179795456129895 | 0.11847770762239218\n"
          ],
          "name": "stdout"
        }
      ]
    },
    {
      "cell_type": "markdown",
      "metadata": {
        "id": "saeBpkfYYulR",
        "colab_type": "text"
      },
      "source": [
        "# **Exercise 2 & 4**"
      ]
    },
    {
      "cell_type": "markdown",
      "metadata": {
        "id": "I7Dz30X8A58a",
        "colab_type": "text"
      },
      "source": [
        "# **A**"
      ]
    },
    {
      "cell_type": "code",
      "metadata": {
        "id": "3mkBfvHtA2as",
        "colab_type": "code",
        "colab": {
          "base_uri": "https://localhost:8080/",
          "height": 72
        },
        "outputId": "142496a2-9f27-4b13-ac70-e46dbb368ea6"
      },
      "source": [
        "import numpy as np\n",
        "\n",
        "def f(t,y):\n",
        "  return np.exp(t-y)\n",
        "\n",
        "def fe(t):\n",
        "  return np.log(np.exp(t) + np.exp(1) - 1)\n",
        "a = 0\n",
        "b = 1\n",
        "N = 2\n",
        "A = 1 \n",
        "\n",
        "h = (b-a)/N\n",
        "t = a\n",
        "w = A\n",
        "\n",
        "for i in range (1) :\n",
        "  t = a + i*h\n",
        "  y1 = fe(t)  \n",
        "  dif = abs(y1-w)\n",
        "  print(\"{} | {} | {} | {}\".format(t,w,y1,dif))  \n",
        "\n",
        "for i in range(1,N+1) :\n",
        "  w = w + h * f(t,w)\n",
        "  t = a + i*h\n",
        "  y1 = fe(t)\n",
        "  dif = abs(y1-w)\n",
        "  print(\"{} | {} | {} | {}\".format(t,w,y1,dif))  \n"
      ],
      "execution_count": 36,
      "outputs": [
        {
          "output_type": "stream",
          "text": [
            "0.0 | 1 | 1.0 | 0.0\n",
            "0.5 | 1.1839397205857212 | 1.2140230606297089 | 0.030083340043987716\n",
            "1.0 | 1.436252215343503 | 1.4898801256447498 | 0.05362791030124692\n"
          ],
          "name": "stdout"
        }
      ]
    },
    {
      "cell_type": "markdown",
      "metadata": {
        "id": "S6VXvw6wBg4V",
        "colab_type": "text"
      },
      "source": [
        "# **B**"
      ]
    },
    {
      "cell_type": "code",
      "metadata": {
        "id": "ihGSDGqXBi52",
        "colab_type": "code",
        "colab": {
          "base_uri": "https://localhost:8080/",
          "height": 72
        },
        "outputId": "e1af2d7a-1831-46aa-f443-452df3410139"
      },
      "source": [
        "import numpy as np\n",
        "\n",
        "def f(t,y):\n",
        "  return (1+t)/(1+y)\n",
        "\n",
        "def fe(t):\n",
        "  return np.sqrt(t**2+2*t+6)-1\n",
        "\n",
        "a = 1\n",
        "b = 2\n",
        "N = 2\n",
        "A = 2 \n",
        "\n",
        "h = (b-a)/N\n",
        "t = a\n",
        "w = A\n",
        "\n",
        "for i in range (1) :\n",
        "  t = a + i*h\n",
        "  y1 = fe(t)  \n",
        "  dif = abs(y1-w)\n",
        "  print(\"{} | {} | {} | {}\".format(t,w,y1,dif))  \n",
        "\n",
        "for i in range(1,N+1) :\n",
        "  w = w + h * f(t,w)\n",
        "  t = a + i*h\n",
        "  y1 = fe(t)\n",
        "  dif = abs(y1-w)\n",
        "  print(\"{} | {} | {} | {}\".format(t,w,y1,dif))  \n"
      ],
      "execution_count": 37,
      "outputs": [
        {
          "output_type": "stream",
          "text": [
            "1.0 | 2 | 2.0 | 0.0\n",
            "1.5 | 2.3333333333333335 | 2.3541019662496847 | 0.020768632916351226\n",
            "2.0 | 2.7083333333333335 | 2.7416573867739413 | 0.03332405344060785\n"
          ],
          "name": "stdout"
        }
      ]
    },
    {
      "cell_type": "markdown",
      "metadata": {
        "id": "V0BSp8_lBkTy",
        "colab_type": "text"
      },
      "source": [
        "# **C**"
      ]
    },
    {
      "cell_type": "code",
      "metadata": {
        "id": "TY3dB74MBfzk",
        "colab_type": "code",
        "colab": {
          "base_uri": "https://localhost:8080/",
          "height": 109
        },
        "outputId": "f77b2162-4f92-43d7-b727-22045b072591"
      },
      "source": [
        "import numpy as np\n",
        "\n",
        "def f(t,y):\n",
        "  return -y+t*y**1/2\n",
        "\n",
        "def fe(t):\n",
        "  return (t-2+np.sqrt(2)*np.exp(1)*np.exp(-t/2))**2\n",
        "\n",
        "a = 2\n",
        "b = 3\n",
        "N = 4\n",
        "A = 2 \n",
        "\n",
        "h = (b-a)/N\n",
        "t = a\n",
        "w = A\n",
        "\n",
        "for i in range (1) :\n",
        "  t = a + i*h\n",
        "  y1 = fe(t)  \n",
        "  dif = abs(y1-w)\n",
        "  print(\"{} | {} | {} | {}\".format(t,w,y1,dif))  \n",
        "\n",
        "for i in range(1,N+1) :\n",
        "  w = w + h * f(t,w)\n",
        "  t = a + i*h\n",
        "  y1 = fe(t)\n",
        "  dif = abs(y1-w)\n",
        "  print(\"{} | {} | {} | {}\".format(t,w,y1,dif))  \n"
      ],
      "execution_count": 38,
      "outputs": [
        {
          "output_type": "stream",
          "text": [
            "2.0 | 2 | 2.0000000000000004 | 4.440892098500626e-16\n",
            "2.25 | 2.0 | 2.244121110336502 | 0.24412111033650197\n",
            "2.5 | 2.0625 | 2.5644519492316347 | 0.5019519492316347\n",
            "2.75 | 2.19140625 | 2.965193834491754 | 0.7737875844917541\n",
            "3.0 | 2.3968505859375 | 3.451286652264298 | 1.0544360663267982\n"
          ],
          "name": "stdout"
        }
      ]
    },
    {
      "cell_type": "markdown",
      "metadata": {
        "id": "90_feEg-CBVc",
        "colab_type": "text"
      },
      "source": [
        "# **D**"
      ]
    },
    {
      "cell_type": "code",
      "metadata": {
        "id": "l16jEZIdB_oD",
        "colab_type": "code",
        "colab": {
          "base_uri": "https://localhost:8080/",
          "height": 109
        },
        "outputId": "2f8113c8-58e1-4696-fb24-174e84436889"
      },
      "source": [
        "import numpy as np\n",
        "\n",
        "def f(t,y):\n",
        "  return t**-2*(np.sin(2*t)-2*t*y)\n",
        "\n",
        "def fe(t):\n",
        "  return (4+np.cos(2)-np.cos(2*t))/(2*t**2)\n",
        "\n",
        "a = 1\n",
        "b = 2\n",
        "N = 4\n",
        "A = 2 \n",
        "\n",
        "h = (b-a)/N\n",
        "t = a\n",
        "w = A\n",
        "\n",
        "for i in range (1) :\n",
        "  t = a + i*h\n",
        "  y1 = fe(t)  \n",
        "  dif = abs(y1-w)\n",
        "  print(\"{} | {} | {} | {}\".format(t,w,y1,dif))  \n",
        "\n",
        "for i in range(1,N+1) :\n",
        "  w = w + h * f(t,w)\n",
        "  t = a + i*h\n",
        "  y1 = fe(t)\n",
        "  dif = abs(y1-w)\n",
        "  print(\"{} | {} | {} | {}\".format(t,w,y1,dif))  \n"
      ],
      "execution_count": 39,
      "outputs": [
        {
          "output_type": "stream",
          "text": [
            "1.0 | 2 | 2.0 | 0.0\n",
            "1.25 | 1.2273243567064205 | 1.4031989692799332 | 0.17587461257351267\n",
            "1.5 | 0.8321501570804853 | 1.0164101466785118 | 0.18425998959802647\n",
            "1.75 | 0.570446772282531 | 0.7380097715499843 | 0.16756299926745322\n",
            "2.0 | 0.37882661467612466 | 0.5296870980395587 | 0.15086048336343405\n"
          ],
          "name": "stdout"
        }
      ]
    }
  ]
}