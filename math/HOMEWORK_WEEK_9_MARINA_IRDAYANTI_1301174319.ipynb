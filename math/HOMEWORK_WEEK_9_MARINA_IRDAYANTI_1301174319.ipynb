{
  "nbformat": 4,
  "nbformat_minor": 0,
  "metadata": {
    "colab": {
      "name": "HOMEWORK WEEK 9 - MARINA IRDAYANTI-1301174319.ipynb",
      "provenance": []
    },
    "kernelspec": {
      "name": "python3",
      "display_name": "Python 3"
    }
  },
  "cells": [
    {
      "cell_type": "markdown",
      "metadata": {
        "id": "5Bc5M53ZLQo6",
        "colab_type": "text"
      },
      "source": [
        "**HOMEWORK WEEK 9**\n",
        "\n",
        "**NAMA: MARINA IRDAYANTI**\n",
        "\n",
        "**NIM : 1301174319**"
      ]
    },
    {
      "cell_type": "markdown",
      "metadata": {
        "id": "w6hSrKItmb9I",
        "colab_type": "text"
      },
      "source": [
        "# Exercise\n",
        "\n",
        "Modified this Euler method with Runge-Kutta method for the following problems.\n",
        "\n",
        "<center><img src = \"https://i.imgur.com/f2Vytli.png\" align = \"center\"> </center>\n",
        "<center><img src = \"https://i.imgur.com/BkmOko6.png\" align = \"center\"> </center>\n"
      ]
    },
    {
      "cell_type": "markdown",
      "metadata": {
        "id": "FGSJNR2M9ar2",
        "colab_type": "text"
      },
      "source": [
        "# EXERCISE **1A - 3A**"
      ]
    },
    {
      "cell_type": "code",
      "metadata": {
        "id": "bAs1pfTf9bst",
        "colab_type": "code",
        "outputId": "07cf98f8-d0d9-4520-d2d6-5adf956779d9",
        "colab": {
          "base_uri": "https://localhost:8080/",
          "height": 241
        }
      },
      "source": [
        "import numpy as np\n",
        "\n",
        "def y(t): #this function for exact solution\n",
        "  return  1/5*t*np.exp(3*t) - 1/25*np.exp(3*t) + 1/25*np.exp(-2*t)\n",
        "\n",
        "def f(t,w):\n",
        "  return  t*np.exp(3*t) - 2*w\n",
        "\n",
        "a = 0\n",
        "b = 1\n",
        "N = 10\n",
        "alpha = 0\n",
        "\n",
        "#Step 1\n",
        "h = (b-a)/N\n",
        "t = a\n",
        "w = alpha\n",
        "yt = y(t) \n",
        "print(\"t    w   y    |y-w|\")\n",
        "print(\"{}  {}  {}  {}\".format(t,w,yt,abs(yt-w)))\n",
        "for i in range(1, N+1):\n",
        "  K1 = h*f(t, w)\n",
        "  K2 = h*f(t+h/2, w+K1/2)\n",
        "  K3 = h*f(t+h/2, w+K2/2)\n",
        "  K4 = h*f(t+h, w+K3)     \n",
        "  w = w +(K1 + 2*K2+ 2*K3 + K4)/6\n",
        "  t = a + i*h\n",
        "  yt = y(t)\n",
        "  print(\"{}  {}  {}  {}\".format(t,w,yt,abs(yt-w)))"
      ],
      "execution_count": 0,
      "outputs": [
        {
          "output_type": "stream",
          "text": [
            "t    w   y    |y-w|\n",
            "0  0  0.0  0.0\n",
            "0.1  0.00575463131152366  0.005752053971599214  2.5773399244454973e-06\n",
            "0.2  0.026818770596771152  0.026812801841425586  5.9687553455659015e-06\n",
            "0.30000000000000004  0.07115516451535381  0.07114452766690009  1.0636848453718373e-05\n",
            "0.4  0.15079506068018006  0.15077783547415086  1.72252060292033e-05\n",
            "0.5  0.28364315904411613  0.2836165218671416  2.6637176974542154e-05\n",
            "0.6000000000000001  0.49605971148690464  0.49601956562952404  4.014585738060239e-05\n",
            "0.7000000000000001  0.8265404176423425  0.8264808698144296  5.9547827912953544e-05\n",
            "0.8  1.3309444044737564  1.3308570263967792  8.737807697722921e-05\n",
            "0.9  2.089901607341673  2.089774397011061  0.00012721033061202647\n",
            "1.0  3.2192833954633917  3.2190993190394916  0.00018407642390005918\n"
          ],
          "name": "stdout"
        }
      ]
    },
    {
      "cell_type": "markdown",
      "metadata": {
        "id": "vq8SM8rJ93iQ",
        "colab_type": "text"
      },
      "source": [
        "# EXERCISE **1B-3B**"
      ]
    },
    {
      "cell_type": "code",
      "metadata": {
        "id": "XtKig_Bv94_s",
        "colab_type": "code",
        "outputId": "2f773334-36f0-4771-d6d7-7825330ff05b",
        "colab": {
          "base_uri": "https://localhost:8080/",
          "height": 241
        }
      },
      "source": [
        "import numpy as np\n",
        "\n",
        "def y(t): #this function for exact solution\n",
        "  return  t+1/(1-t)\n",
        "\n",
        "def f(t,w):\n",
        "  return  1+(t-w)**2\n",
        "\n",
        "a = 2\n",
        "b = 3\n",
        "N = 10\n",
        "alpha = 1\n",
        "\n",
        "#Step 1\n",
        "h = (b-a)/N\n",
        "t = a\n",
        "w = alpha\n",
        "yt = y(t) \n",
        "print(\"t    w   y    |y-w|\")\n",
        "print(\"{}  {}  {}  {}\".format(t,w,yt,abs(yt-w)))\n",
        "for i in range(1, N+1):\n",
        "  K1 = h*f(t, w)\n",
        "  K2 = h*f(t+h/2, w+K1/2)\n",
        "  K3 = h*f(t+h/2, w+K2/2)\n",
        "  K4 = h*f(t+h, w+K3)     \n",
        "  w = w +(K1 + 2*K2+ 2*K3 + K4)/6\n",
        "  t = a + i*h\n",
        "  yt = y(t)\n",
        "  print(\"{}  {}  {}  {}\".format(t,w,yt,abs(yt-w)))"
      ],
      "execution_count": 0,
      "outputs": [
        {
          "output_type": "stream",
          "text": [
            "t    w   y    |y-w|\n",
            "2  1  1.0  0.0\n",
            "2.1  1.1909088136677803  1.190909090909091  2.772413105756044e-07\n",
            "2.2  1.366666271156928  1.366666666666667  3.955097389596318e-07\n",
            "2.3  1.5307687942467136  1.5307692307692304  4.3652251680015297e-07\n",
            "2.4  1.6857138461072385  1.6857142857142855  4.396070469869784e-07\n",
            "2.5  1.8333329089341375  1.8333333333333335  4.2439919600845144e-07\n",
            "2.6  1.9749995990508262  1.975  4.009491738621307e-07\n",
            "2.7  2.111764331419161  2.1117647058823534  3.7446319245404425e-07\n",
            "2.8  2.244444096816786  2.2444444444444445  3.476276586589222e-07\n",
            "2.9  2.373683888735742  2.373684210526316  3.217905737429305e-07\n",
            "3.0  2.4999997024197693  2.5  2.9758023067927297e-07\n"
          ],
          "name": "stdout"
        }
      ]
    },
    {
      "cell_type": "markdown",
      "metadata": {
        "id": "nCpRBLhL-fWS",
        "colab_type": "text"
      },
      "source": [
        "# EXERCISE **1C-3C**"
      ]
    },
    {
      "cell_type": "code",
      "metadata": {
        "id": "laiFVYvy9z8K",
        "colab_type": "code",
        "outputId": "fc00867c-5ed0-4320-824a-676741cdbab2",
        "colab": {
          "base_uri": "https://localhost:8080/",
          "height": 241
        }
      },
      "source": [
        "import numpy as np\n",
        "\n",
        "def y(t): #this function for exact solution\n",
        "  return t*np.log(t)+2*t\n",
        "\n",
        "def f(t,w):\n",
        "  return  1 + w/t\n",
        "\n",
        "a = 1\n",
        "b = 2\n",
        "N = 10\n",
        "alpha = 2\n",
        "\n",
        "#Step 1\n",
        "h = (b-a)/N\n",
        "t = a\n",
        "w = alpha\n",
        "yt = y(t) \n",
        "print(\"t    w   y    |y-w|\")\n",
        "print(\"{}  {}  {}  {}\".format(t,w,yt,abs(yt-w)))\n",
        "for i in range(1, N+1):\n",
        "  K1 = h*f(t, w)\n",
        "  K2 = h*f(t+h/2, w+K1/2)\n",
        "  K3 = h*f(t+h/2, w+K2/2)\n",
        "  K4 = h*f(t+h, w+K3)     \n",
        "  w = w +(K1 + 2*K2+ 2*K3 + K4)/6\n",
        "  t = a + i*h\n",
        "  yt = y(t)\n",
        "  print(\"{}  {}  {}  {}\".format(t,w,yt,abs(yt-w)))"
      ],
      "execution_count": 0,
      "outputs": [
        {
          "output_type": "stream",
          "text": [
            "t    w   y    |y-w|\n",
            "1  2  2.0  0.0\n",
            "1.1  2.3048409262694975  2.3048411977847576  2.715152600529791e-07\n",
            "1.2  2.6187853831248007  2.6187858681527456  4.850279449186701e-07\n",
            "1.3  2.9410728830005852  2.9410735438077387  6.608071534408566e-07\n",
            "1.4  3.2710603200831256  3.2710611312696978  8.1118657213608e-07\n",
            "1.5  3.6081967181986454  3.6081976621622465  9.439636010633023e-07\n",
            "1.6  3.9520047425613853  3.9520058067931774  1.0642317920250832e-06\n",
            "1.7000000000000002  4.302066851391573  4.30206802680569  1.175414117149387e-06\n",
            "1.8  4.658014716955178  4.658015996823814  1.279868635961634e-06\n",
            "1.9  5.01952100447183  5.0195223837275496  1.3792557194136634e-06\n",
            "2.0  5.38629288635246  5.386294361119891  1.4747674308424052e-06\n"
          ],
          "name": "stdout"
        }
      ]
    },
    {
      "cell_type": "markdown",
      "metadata": {
        "id": "lU3teoAS-0zk",
        "colab_type": "text"
      },
      "source": [
        "# EXERCISE **1D-3D**"
      ]
    },
    {
      "cell_type": "code",
      "metadata": {
        "id": "wqVwdHei-w6e",
        "colab_type": "code",
        "outputId": "bcc88c16-4a08-483c-f850-c8dbdea53868",
        "colab": {
          "base_uri": "https://localhost:8080/",
          "height": 241
        }
      },
      "source": [
        "import numpy as np\n",
        "\n",
        "def y(t): #this function for exact solution\n",
        "  return 1/2*np.sin(2*t) - 1/3*np.cos(3*t) + 4/3\n",
        "\n",
        "def f(t,w):\n",
        "  return  np.cos(2*t) + np.sin(3*t)\n",
        "\n",
        "a = 0\n",
        "b = 1\n",
        "N = 10\n",
        "alpha = 1\n",
        "\n",
        "#Step 1\n",
        "h = (b-a)/N\n",
        "t = a\n",
        "w = alpha\n",
        "yt = y(t) \n",
        "print(\"t    w   y    |y-w|\")\n",
        "print(\"{}  {}  {}  {}\".format(t,w,yt,abs(yt-w)))\n",
        "for i in range(1, N+1):\n",
        "  K1 = h*f(t, w)\n",
        "  K2 = h*f(t+h/2, w+K1/2)\n",
        "  K3 = h*f(t+h/2, w+K2/2)\n",
        "  K4 = h*f(t+h, w+K3)     \n",
        "  w = w +(K1 + 2*K2+ 2*K3 + K4)/6\n",
        "  t = a + i*h\n",
        "  yt = y(t)\n",
        "  print(\"{}  {}  {}  {}\".format(t,w,yt,abs(yt-w)))"
      ],
      "execution_count": 0,
      "outputs": [
        {
          "output_type": "stream",
          "text": [
            "t    w   y    |y-w|\n",
            "0  1  1.0  0.0\n",
            "0.1  1.114222599591818  1.1142225023556618  9.723615623791204e-08\n",
            "0.2  1.252930905339282  1.2529306328510992  2.724881829063719e-07\n",
            "0.30000000000000004  1.408451759999114  1.408451247273963  5.127251510028685e-07\n",
            "0.4  1.5712262595218736  1.5712254606242035  7.988976700179506e-07\n",
            "0.5  1.7304908660581382  1.7304897585147139  1.1075434243057458e-06\n",
            "0.6000000000000001  1.8750883206805558  1.8750869078813088  1.412799246924834e-06\n",
            "0.7000000000000001  1.9943419218375191  1.9943402331941826  1.6886433364948772e-06\n",
            "0.8  2.0789199512045435  2.078918040034501  1.9111700426677203e-06\n",
            "0.9  2.1216165901407797  2.1216145294447846  2.0606959951763315e-06\n",
            "1.0  2.117981669123607  2.1179795456129895  2.123510617568769e-06\n"
          ],
          "name": "stdout"
        }
      ]
    },
    {
      "cell_type": "markdown",
      "metadata": {
        "id": "6Hs-kf8y_JLu",
        "colab_type": "text"
      },
      "source": [
        "# EXERCISE **2A-4A**"
      ]
    },
    {
      "cell_type": "code",
      "metadata": {
        "id": "nvmwESuo_Gym",
        "colab_type": "code",
        "outputId": "823b7e1d-3ce9-4719-90a0-8ff038efcd63",
        "colab": {
          "base_uri": "https://localhost:8080/",
          "height": 241
        }
      },
      "source": [
        "import numpy as np\n",
        "\n",
        "def y(t): #this function for exact solution\n",
        "  return np.log(np.exp(t) + np.exp(1) - 1)\n",
        "\n",
        "def f(t,w):\n",
        "  return  np.exp(t-w)\n",
        "\n",
        "a = 0\n",
        "b = 1\n",
        "N = 10\n",
        "alpha = 1\n",
        "\n",
        "#Step 1\n",
        "h = (b-a)/N\n",
        "t = a\n",
        "w = alpha\n",
        "yt = y(t) \n",
        "print(\"t    w   y    |y-w|\")\n",
        "print(\"{}  {}  {}  {}\".format(t,w,yt,abs(yt-w)))\n",
        "for i in range(1, N+1):\n",
        "  K1 = h*f(t, w)\n",
        "  K2 = h*f(t+h/2, w+K1/2)\n",
        "  K3 = h*f(t+h/2, w+K2/2)\n",
        "  K4 = h*f(t+h, w+K3)     \n",
        "  w = w +(K1 + 2*K2+ 2*K3 + K4)/6\n",
        "  t = a + i*h\n",
        "  yt = y(t)\n",
        "  print(\"{}  {}  {}  {}\".format(t,w,yt,abs(yt-w)))"
      ],
      "execution_count": 0,
      "outputs": [
        {
          "output_type": "stream",
          "text": [
            "t    w   y    |y-w|\n",
            "0  1  1.0  0.0\n",
            "0.1  1.0379605186346466  1.0379605142140824  4.4205641369643445e-09\n",
            "0.2  1.0783023013252584  1.0783022921324559  9.192802519208954e-09\n",
            "0.30000000000000004  1.1210717364066705  1.1210717221007704  1.4305900020161744e-08\n",
            "0.4  1.166304142030798  1.166304122292324  1.973847396641304e-08\n",
            "0.5  1.2140230860874963  1.2140230606297089  2.5457787433680323e-08\n",
            "0.6000000000000001  1.264239924153113  1.2642398927336158  3.141949722618165e-08\n",
            "0.7000000000000001  1.3169535745107055  1.3169535369426872  3.7568018251832314e-08\n",
            "0.8  1.3721505396470979  1.3721504958095445  4.383755336512252e-08\n",
            "0.9  1.4298051733244235  1.4298051231706612  5.015376225436796e-08\n",
            "1.0  1.4898801820807488  1.4898801256447498  5.643599898519369e-08\n"
          ],
          "name": "stdout"
        }
      ]
    },
    {
      "cell_type": "markdown",
      "metadata": {
        "id": "eWBWGlFbAUUM",
        "colab_type": "text"
      },
      "source": [
        "# EXERCISE 2B-4B"
      ]
    },
    {
      "cell_type": "code",
      "metadata": {
        "id": "gQAh0SsrAWoN",
        "colab_type": "code",
        "outputId": "e6847fba-9f29-4524-b606-cbd42c5d2e2c",
        "colab": {
          "base_uri": "https://localhost:8080/",
          "height": 241
        }
      },
      "source": [
        "import numpy as np\n",
        "\n",
        "def y(t): #this function for exact solution\n",
        "  return np.sqrt(t**2+2*t+6)-1\n",
        "\n",
        "def f(t,w):\n",
        "  return  (1+t)/(1+w)\n",
        "\n",
        "a = 1\n",
        "b = 2\n",
        "N = 10\n",
        "alpha = 2\n",
        "\n",
        "#Step 1\n",
        "h = (b-a)/N\n",
        "t = a\n",
        "w = alpha\n",
        "yt = y(t) \n",
        "print(\"t    w   y    |y-w|\")\n",
        "print(\"{}  {}  {}  {}\".format(t,w,yt,abs(yt-w)))\n",
        "for i in range(1, N+1):\n",
        "  K1 = h*f(t, w)\n",
        "  K2 = h*f(t+h/2, w+K1/2)\n",
        "  K3 = h*f(t+h/2, w+K2/2)\n",
        "  K4 = h*f(t+h, w+K3)     \n",
        "  w = w +(K1 + 2*K2+ 2*K3 + K4)/6\n",
        "  t = a + i*h\n",
        "  yt = y(t)\n",
        "  print(\"{}  {}  {}  {}\".format(t,w,yt,abs(yt-w)))"
      ],
      "execution_count": 0,
      "outputs": [
        {
          "output_type": "stream",
          "text": [
            "t    w   y    |y-w|\n",
            "1  2  2.0  0.0\n",
            "1.1  2.0675723305374323  2.0675723300355937  5.018385706989648e-10\n",
            "1.2  2.136877429192969  2.1368774282716245  9.213443341593575e-10\n",
            "1.3  2.207802987738568  2.207802986469088  1.2694800766155367e-09\n",
            "1.4  2.2802438949275405  2.280243893371345  1.5561956168141933e-09\n",
            "1.5  2.354101968040064  2.3541019662496847  1.790379400290476e-09\n",
            "1.6  2.4292856418763202  2.4292856398964497  1.9798704897766584e-09\n",
            "1.7000000000000002  2.505709630723132  2.505709628591621  2.1315109677289e-09\n",
            "1.8  2.5832945756850068  2.5832945734337835  2.251223207849762e-09\n",
            "1.9  2.66196668706421  2.661966684720111  2.3440991370193842e-09\n",
            "2.0  2.7416573891884335  2.7416573867739413  2.4144921617619275e-09\n"
          ],
          "name": "stdout"
        }
      ]
    },
    {
      "cell_type": "markdown",
      "metadata": {
        "id": "ZwYl3ZFSAq1w",
        "colab_type": "text"
      },
      "source": [
        "# EXERCISE **2C-4C**"
      ]
    },
    {
      "cell_type": "code",
      "metadata": {
        "id": "liG1dP_pAfvY",
        "colab_type": "code",
        "outputId": "9db9f060-4a2f-490c-cdd8-e723a69ef443",
        "colab": {
          "base_uri": "https://localhost:8080/",
          "height": 241
        }
      },
      "source": [
        "import numpy as np\n",
        "\n",
        "def y(t): #this function for exact solution\n",
        "  return np.sqrt(t**2+2*t+6)-1\n",
        "\n",
        "def f(t,w):\n",
        "  return -w+t*w**1/2\n",
        "\n",
        "a = 2\n",
        "b = 3\n",
        "N = 10\n",
        "alpha = 2\n",
        "\n",
        "#Step 1\n",
        "h = (b-a)/N\n",
        "t = a\n",
        "w = alpha\n",
        "yt = y(t) \n",
        "print(\"t    w   y    |y-w|\")\n",
        "print(\"{}  {}  {}  {}\".format(t,w,yt,abs(yt-w)))\n",
        "for i in range(1, N+1):\n",
        "  K1 = h*f(t, w)\n",
        "  K2 = h*f(t+h/2, w+K1/2)\n",
        "  K3 = h*f(t+h/2, w+K2/2)\n",
        "  K4 = h*f(t+h, w+K3)     \n",
        "  w = w +(K1 + 2*K2+ 2*K3 + K4)/6\n",
        "  t = a + i*h\n",
        "  yt = y(t)\n",
        "  print(\"{}  {}  {}  {}\".format(t,w,yt,abs(yt-w)))"
      ],
      "execution_count": 0,
      "outputs": [
        {
          "output_type": "stream",
          "text": [
            "t    w   y    |y-w|\n",
            "2  2  2.7416573867739413  0.7416573867739413\n",
            "2.1  2.0050062552083334  2.8223029707232783  0.8172967155149449\n",
            "2.2  2.0201003341352877  2.9038442591886273  0.8837439250533397\n",
            "2.3  2.0455100682080816  2.9862262855989496  0.9407162173908681\n",
            "2.4  2.0816215480706393  3.069397989875161  0.9877764418045216\n",
            "2.5  2.128988917139594  3.1533119314590374  1.0243230143194433\n",
            "2.6  2.1883485659952866  3.237924020083418  1.0495754540881315\n",
            "2.7  2.2606382374193745  3.323193264243457  1.0625550268240826\n",
            "2.8  2.3470217369170254  3.4090815370097207  1.0620598000926953\n",
            "2.9  2.448920161122007  3.495553358597805  1.0466331974757979\n",
            "3.0  2.5680508173969776  3.58257569495584  1.0145248775588622\n"
          ],
          "name": "stdout"
        }
      ]
    },
    {
      "cell_type": "markdown",
      "metadata": {
        "id": "UCMe6LpkA5w2",
        "colab_type": "text"
      },
      "source": [
        "# EXERCISE 2d-4d"
      ]
    },
    {
      "cell_type": "code",
      "metadata": {
        "id": "nAlV9bgjA0QK",
        "colab_type": "code",
        "outputId": "70f2412f-71ce-4fef-88e8-09a8ca8adad4",
        "colab": {
          "base_uri": "https://localhost:8080/",
          "height": 241
        }
      },
      "source": [
        "import numpy as np\n",
        "\n",
        "def y(t): #this function for exact solution\n",
        "  return (4+np.cos(2)-np.cos(2*t))/(2*t**2)\n",
        "\n",
        "def f(t,w):\n",
        "  return t**-2*(np.sin(2*t)-2*t*w)\n",
        "\n",
        "a = 1\n",
        "b = 2\n",
        "N = 10\n",
        "alpha = 2\n",
        "\n",
        "#Step 1\n",
        "h = (b-a)/N\n",
        "t = a\n",
        "w = alpha\n",
        "yt = y(t) \n",
        "print(\"t    w   y    |y-w|\")\n",
        "print(\"{}  {}  {}  {}\".format(t,w,yt,abs(yt-w)))\n",
        "for i in range(1, N+1):\n",
        "  K1 = h*f(t, w)\n",
        "  K2 = h*f(t+h/2, w+K1/2)\n",
        "  K3 = h*f(t+h/2, w+K2/2)\n",
        "  K4 = h*f(t+h, w+K3)     \n",
        "  w = w +(K1 + 2*K2+ 2*K3 + K4)/6\n",
        "  t = a + i*h\n",
        "  yt = y(t)\n",
        "  print(\"{}  {}  {}  {}\".format(t,w,yt,abs(yt-w)))"
      ],
      "execution_count": 0,
      "outputs": [
        {
          "output_type": "stream",
          "text": [
            "t    w   y    |y-w|\n",
            "1  2  2.0  0.0\n",
            "1.1  1.7241157301058436  1.7241133391356211  2.390970222476696e-06\n",
            "1.2  1.5004362221682392  1.5004329440951747  3.278073064549858e-06\n",
            "1.3  1.3138324785891204  1.3138289694739067  3.5091152137400883e-06\n",
            "1.4  1.1546145498472293  1.1546110979901827  3.451857046643525e-06\n",
            "1.5  1.016413419370895  1.0164101466785118  3.2726923830939114e-06\n",
            "1.6  0.8949538182379101  0.8949507693842987  3.0488536113537634e-06\n",
            "1.7000000000000002  0.7873127396069989  0.7873099231889823  2.8164180165823893e-06\n",
            "1.8  0.691454996175586  0.6914524042881179  2.591887468095244e-06\n",
            "1.9  0.6059332514458307  0.6059308691644425  2.382281388157992e-06\n",
            "2.0  0.5296892880443653  0.5296870980395587  2.1900048066125777e-06\n"
          ],
          "name": "stdout"
        }
      ]
    }
  ]
}